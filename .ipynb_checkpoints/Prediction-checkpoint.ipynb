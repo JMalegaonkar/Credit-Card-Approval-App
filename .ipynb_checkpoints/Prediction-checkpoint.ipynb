{
 "cells": [
  {
   "cell_type": "code",
   "execution_count": 52,
   "id": "a32d16af-47e5-4b31-aff0-dee162b06202",
   "metadata": {},
   "outputs": [
    {
     "name": "stderr",
     "output_type": "stream",
     "text": [
      "C:\\Users\\patch\\anaconda3\\lib\\site-packages\\sklearn\\base.py:450: UserWarning: X does not have valid feature names, but StandardScaler was fitted with feature names\n",
      "  warnings.warn(\n"
     ]
    },
    {
     "data": {
      "text/plain": [
       "array([0.])"
      ]
     },
     "execution_count": 52,
     "metadata": {},
     "output_type": "execute_result"
    }
   ],
   "source": [
    "import numpy as np\n",
    "import pickle\n",
    "with open('modelxgb.pkl', 'rb') as f:\n",
    "    clf = pickle.load(f)\n",
    "# sorry Shlok this is gonna be annoying\n",
    "\n",
    "with open('scaler.pkl', 'rb') as f:\n",
    "    scaler = pickle.load(f)\n",
    "    \n",
    "children = [2.0]\n",
    "fam_members = [1.0]\n",
    "\n",
    "#float\n",
    "income = [3000.0]\n",
    "age = [19.0]\n",
    "years_employed = [1.0]\n",
    "Months_account_open = [3.0]\n",
    "\n",
    "#bool\n",
    "phone = [1.0]\n",
    "work_phone = [1.0]\n",
    "email = [0.0]\n",
    "own_car = [1.0]\n",
    "own_realty = [1.0]\n",
    "gender =[0.0] # 1 for male\n",
    "#array bools categories I one hot encoded with more than just two possible choices\n",
    "\n",
    "Income_type=[ 0.0, 0.0, 0.0, 0.0, 1.0] # commerical associate, pensioner, state servant, student, working\n",
    "\n",
    "Edu = [0.0, 0.0, 0.0, 1.0, 0.0,]# academic degree, higher edu, incomplete higher, lower, secondary\n",
    "\n",
    "relationship = [1.0, 0.0, 0.0, 0.0, 0.0] # civil marriage, married, separated, single/not married, widow\n",
    "\n",
    "housing = [ 0.0, 0.0, 0.0, 0.0, 1.0, 0.0]# co-op apartment, paying off/own house/apartment, Office apartment, rented apartment, with parents\n",
    "\n",
    "occupation =[0.0,0.0,0.0,0.0,0.0, #accountant, cleaning staff, cooking staff, core staff, driver,\n",
    "             0.0,0.0,0.0,0.0,1.0, #HR, High skil tech, It, laborer, low-skill labor\n",
    "             0.0,0.0,0.0,0.0,0.0, #manager, medicical staff, not identified, private service, realty agent\n",
    "             0.0,0.0,0.0,0.0,0.0] #sales, secretaries, security, unemployed, bar\n",
    "\n",
    "prediction = (children + income + age + years_employed + Months_account_open + work_phone + phone  + email +\n",
    "                fam_members + own_car + own_realty+ gender + Income_type + Edu + relationship + housing + occupation)\n",
    "prediction = scaler.transform(np.reshape(prediction,(1, -1)))\n",
    "\n",
    "clf.predict(prediction)"
   ]
  },
  {
   "cell_type": "code",
   "execution_count": null,
   "id": "11dc6260-05f3-46ed-8c82-c437ec30928c",
   "metadata": {},
   "outputs": [],
   "source": []
  }
 ],
 "metadata": {
  "kernelspec": {
   "display_name": "Python 3 (ipykernel)",
   "language": "python",
   "name": "python3"
  },
  "language_info": {
   "codemirror_mode": {
    "name": "ipython",
    "version": 3
   },
   "file_extension": ".py",
   "mimetype": "text/x-python",
   "name": "python",
   "nbconvert_exporter": "python",
   "pygments_lexer": "ipython3",
   "version": "3.9.7"
  }
 },
 "nbformat": 4,
 "nbformat_minor": 5
}
