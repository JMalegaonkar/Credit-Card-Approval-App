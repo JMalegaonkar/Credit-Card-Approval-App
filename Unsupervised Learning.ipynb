{
 "cells": [
  {
   "cell_type": "markdown",
   "id": "3050956e",
   "metadata": {},
   "source": [
    "# Credit Card Application Model\n",
    "\n",
    "We'll start by preprocessing the data\n",
    "\n",
    "## General Preprocessing"
   ]
  },
  {
   "cell_type": "code",
   "execution_count": 69,
   "id": "41995013",
   "metadata": {},
   "outputs": [
    {
     "name": "stdout",
     "output_type": "stream",
     "text": [
      "ID                1048575\n",
      "MONTHS_BALANCE    1048575\n",
      "STATUS            1048575\n",
      "dtype: int64\n",
      "\n",
      "\n",
      "ID                     438557\n",
      "CODE_GENDER            438557\n",
      "FLAG_OWN_CAR           438557\n",
      "FLAG_OWN_REALTY        438557\n",
      "CNT_CHILDREN           438557\n",
      "AMT_INCOME_TOTAL       438557\n",
      "NAME_INCOME_TYPE       438557\n",
      "NAME_EDUCATION_TYPE    438557\n",
      "NAME_FAMILY_STATUS     438557\n",
      "NAME_HOUSING_TYPE      438557\n",
      "DAYS_BIRTH             438557\n",
      "DAYS_EMPLOYED          438557\n",
      "FLAG_MOBIL             438557\n",
      "FLAG_WORK_PHONE        438557\n",
      "FLAG_PHONE             438557\n",
      "FLAG_EMAIL             438557\n",
      "OCCUPATION_TYPE        304354\n",
      "CNT_FAM_MEMBERS        438557\n",
      "dtype: int64\n"
     ]
    }
   ],
   "source": [
    "import pandas as pd\n",
    "\n",
    "applicationRecord = pd.read_csv('application_record.csv')\n",
    "creditRecord = pd.read_csv('credit_record.csv')\n",
    "\n",
    "#Get counts of application record and credit record\n",
    "print(creditRecord.count())\n",
    "print(\"\\n\")\n",
    "print(applicationRecord.count())"
   ]
  },
  {
   "cell_type": "markdown",
   "id": "0055432a",
   "metadata": {},
   "source": [
    "### Observations\n",
    "\n",
    "There exist two obvious issues:\n",
    "1. The number of application records is less than the number of credit records\n",
    "2. The OCCUPATION_TYPE column has less values than the rest of the columns (suggesting NA values in play)\n",
    "\n",
    "The first thing we'll begin doing is prune the columns we do not need to use in the applicationRecord set:\n",
    "CODE_GENDER, CNT_CHILDREN, FLAG_MOBIL, FLAG_WORK_PHONE, FLAG_PHONE, FLAG_EMAIL, OCCUPATION_TYPE, CNT_FAM_MEMBERS"
   ]
  },
  {
   "cell_type": "code",
   "execution_count": 70,
   "id": "8d95466c",
   "metadata": {},
   "outputs": [
    {
     "data": {
      "text/plain": [
       "Index(['ID', 'CODE_GENDER', 'FLAG_OWN_CAR', 'FLAG_OWN_REALTY', 'CNT_CHILDREN',\n",
       "       'AMT_INCOME_TOTAL', 'NAME_INCOME_TYPE', 'NAME_EDUCATION_TYPE',\n",
       "       'NAME_FAMILY_STATUS', 'NAME_HOUSING_TYPE', 'DAYS_BIRTH',\n",
       "       'DAYS_EMPLOYED', 'FLAG_MOBIL', 'FLAG_WORK_PHONE', 'FLAG_PHONE',\n",
       "       'FLAG_EMAIL', 'OCCUPATION_TYPE', 'CNT_FAM_MEMBERS'],\n",
       "      dtype='object')"
      ]
     },
     "execution_count": 70,
     "metadata": {},
     "output_type": "execute_result"
    }
   ],
   "source": [
    "#First we'll look at our columns before the drop\n",
    "applicationRecord.columns"
   ]
  },
  {
   "cell_type": "code",
   "execution_count": 71,
   "id": "c6f0d2eb",
   "metadata": {},
   "outputs": [
    {
     "data": {
      "text/plain": [
       "Index(['ID', 'FLAG_OWN_CAR', 'FLAG_OWN_REALTY', 'AMT_INCOME_TOTAL',\n",
       "       'NAME_INCOME_TYPE', 'NAME_EDUCATION_TYPE', 'NAME_FAMILY_STATUS',\n",
       "       'NAME_HOUSING_TYPE', 'DAYS_BIRTH', 'DAYS_EMPLOYED'],\n",
       "      dtype='object')"
      ]
     },
     "execution_count": 71,
     "metadata": {},
     "output_type": "execute_result"
    }
   ],
   "source": [
    "#Drop the unnecessary columns and check our new set of columns\n",
    "applicationRecord = applicationRecord.drop(columns=[\"CODE_GENDER\", \n",
    "                                          \"CNT_CHILDREN\", \n",
    "                                          \"FLAG_MOBIL\", \n",
    "                                          \"FLAG_WORK_PHONE\", \n",
    "                                          \"FLAG_PHONE\",\n",
    "                                          \"FLAG_EMAIL\",\n",
    "                                          \"OCCUPATION_TYPE\",\n",
    "                                          \"CNT_FAM_MEMBERS\"])\n",
    "applicationRecord.columns"
   ]
  },
  {
   "cell_type": "markdown",
   "id": "c0ffb0e6",
   "metadata": {},
   "source": [
    "### What next?\n",
    "\n",
    "Now that we have the only columns we need, we can merge the two dataframes called \"comprehensive\", which includes the columns of both dataframes while also aligning the data from one ID to its corresponding data from both datasets"
   ]
  },
  {
   "cell_type": "code",
   "execution_count": 72,
   "id": "9f941e2f",
   "metadata": {},
   "outputs": [
    {
     "data": {
      "text/plain": [
       "(777715, 12)"
      ]
     },
     "execution_count": 72,
     "metadata": {},
     "output_type": "execute_result"
    }
   ],
   "source": [
    "comprehensive = pd.merge(applicationRecord, creditRecord)\n",
    "comprehensive.shape"
   ]
  },
  {
   "cell_type": "code",
   "execution_count": 73,
   "id": "1b75f5e8",
   "metadata": {},
   "outputs": [
    {
     "data": {
      "text/html": [
       "<div>\n",
       "<style scoped>\n",
       "    .dataframe tbody tr th:only-of-type {\n",
       "        vertical-align: middle;\n",
       "    }\n",
       "\n",
       "    .dataframe tbody tr th {\n",
       "        vertical-align: top;\n",
       "    }\n",
       "\n",
       "    .dataframe thead th {\n",
       "        text-align: right;\n",
       "    }\n",
       "</style>\n",
       "<table border=\"1\" class=\"dataframe\">\n",
       "  <thead>\n",
       "    <tr style=\"text-align: right;\">\n",
       "      <th></th>\n",
       "      <th>ID</th>\n",
       "      <th>FLAG_OWN_CAR</th>\n",
       "      <th>FLAG_OWN_REALTY</th>\n",
       "      <th>AMT_INCOME_TOTAL</th>\n",
       "      <th>NAME_INCOME_TYPE</th>\n",
       "      <th>NAME_EDUCATION_TYPE</th>\n",
       "      <th>NAME_FAMILY_STATUS</th>\n",
       "      <th>NAME_HOUSING_TYPE</th>\n",
       "      <th>DAYS_BIRTH</th>\n",
       "      <th>DAYS_EMPLOYED</th>\n",
       "      <th>MONTHS_BALANCE</th>\n",
       "      <th>STATUS</th>\n",
       "    </tr>\n",
       "  </thead>\n",
       "  <tbody>\n",
       "    <tr>\n",
       "      <th>0</th>\n",
       "      <td>5008804</td>\n",
       "      <td>Y</td>\n",
       "      <td>Y</td>\n",
       "      <td>427500.0</td>\n",
       "      <td>Working</td>\n",
       "      <td>Higher education</td>\n",
       "      <td>Civil marriage</td>\n",
       "      <td>Rented apartment</td>\n",
       "      <td>-12005</td>\n",
       "      <td>-4542</td>\n",
       "      <td>0</td>\n",
       "      <td>C</td>\n",
       "    </tr>\n",
       "    <tr>\n",
       "      <th>1</th>\n",
       "      <td>5008804</td>\n",
       "      <td>Y</td>\n",
       "      <td>Y</td>\n",
       "      <td>427500.0</td>\n",
       "      <td>Working</td>\n",
       "      <td>Higher education</td>\n",
       "      <td>Civil marriage</td>\n",
       "      <td>Rented apartment</td>\n",
       "      <td>-12005</td>\n",
       "      <td>-4542</td>\n",
       "      <td>-1</td>\n",
       "      <td>C</td>\n",
       "    </tr>\n",
       "    <tr>\n",
       "      <th>2</th>\n",
       "      <td>5008804</td>\n",
       "      <td>Y</td>\n",
       "      <td>Y</td>\n",
       "      <td>427500.0</td>\n",
       "      <td>Working</td>\n",
       "      <td>Higher education</td>\n",
       "      <td>Civil marriage</td>\n",
       "      <td>Rented apartment</td>\n",
       "      <td>-12005</td>\n",
       "      <td>-4542</td>\n",
       "      <td>-2</td>\n",
       "      <td>C</td>\n",
       "    </tr>\n",
       "    <tr>\n",
       "      <th>3</th>\n",
       "      <td>5008804</td>\n",
       "      <td>Y</td>\n",
       "      <td>Y</td>\n",
       "      <td>427500.0</td>\n",
       "      <td>Working</td>\n",
       "      <td>Higher education</td>\n",
       "      <td>Civil marriage</td>\n",
       "      <td>Rented apartment</td>\n",
       "      <td>-12005</td>\n",
       "      <td>-4542</td>\n",
       "      <td>-3</td>\n",
       "      <td>C</td>\n",
       "    </tr>\n",
       "    <tr>\n",
       "      <th>4</th>\n",
       "      <td>5008804</td>\n",
       "      <td>Y</td>\n",
       "      <td>Y</td>\n",
       "      <td>427500.0</td>\n",
       "      <td>Working</td>\n",
       "      <td>Higher education</td>\n",
       "      <td>Civil marriage</td>\n",
       "      <td>Rented apartment</td>\n",
       "      <td>-12005</td>\n",
       "      <td>-4542</td>\n",
       "      <td>-4</td>\n",
       "      <td>C</td>\n",
       "    </tr>\n",
       "    <tr>\n",
       "      <th>5</th>\n",
       "      <td>5008804</td>\n",
       "      <td>Y</td>\n",
       "      <td>Y</td>\n",
       "      <td>427500.0</td>\n",
       "      <td>Working</td>\n",
       "      <td>Higher education</td>\n",
       "      <td>Civil marriage</td>\n",
       "      <td>Rented apartment</td>\n",
       "      <td>-12005</td>\n",
       "      <td>-4542</td>\n",
       "      <td>-5</td>\n",
       "      <td>C</td>\n",
       "    </tr>\n",
       "    <tr>\n",
       "      <th>6</th>\n",
       "      <td>5008804</td>\n",
       "      <td>Y</td>\n",
       "      <td>Y</td>\n",
       "      <td>427500.0</td>\n",
       "      <td>Working</td>\n",
       "      <td>Higher education</td>\n",
       "      <td>Civil marriage</td>\n",
       "      <td>Rented apartment</td>\n",
       "      <td>-12005</td>\n",
       "      <td>-4542</td>\n",
       "      <td>-6</td>\n",
       "      <td>C</td>\n",
       "    </tr>\n",
       "    <tr>\n",
       "      <th>7</th>\n",
       "      <td>5008804</td>\n",
       "      <td>Y</td>\n",
       "      <td>Y</td>\n",
       "      <td>427500.0</td>\n",
       "      <td>Working</td>\n",
       "      <td>Higher education</td>\n",
       "      <td>Civil marriage</td>\n",
       "      <td>Rented apartment</td>\n",
       "      <td>-12005</td>\n",
       "      <td>-4542</td>\n",
       "      <td>-7</td>\n",
       "      <td>C</td>\n",
       "    </tr>\n",
       "    <tr>\n",
       "      <th>8</th>\n",
       "      <td>5008804</td>\n",
       "      <td>Y</td>\n",
       "      <td>Y</td>\n",
       "      <td>427500.0</td>\n",
       "      <td>Working</td>\n",
       "      <td>Higher education</td>\n",
       "      <td>Civil marriage</td>\n",
       "      <td>Rented apartment</td>\n",
       "      <td>-12005</td>\n",
       "      <td>-4542</td>\n",
       "      <td>-8</td>\n",
       "      <td>C</td>\n",
       "    </tr>\n",
       "    <tr>\n",
       "      <th>9</th>\n",
       "      <td>5008804</td>\n",
       "      <td>Y</td>\n",
       "      <td>Y</td>\n",
       "      <td>427500.0</td>\n",
       "      <td>Working</td>\n",
       "      <td>Higher education</td>\n",
       "      <td>Civil marriage</td>\n",
       "      <td>Rented apartment</td>\n",
       "      <td>-12005</td>\n",
       "      <td>-4542</td>\n",
       "      <td>-9</td>\n",
       "      <td>C</td>\n",
       "    </tr>\n",
       "    <tr>\n",
       "      <th>10</th>\n",
       "      <td>5008804</td>\n",
       "      <td>Y</td>\n",
       "      <td>Y</td>\n",
       "      <td>427500.0</td>\n",
       "      <td>Working</td>\n",
       "      <td>Higher education</td>\n",
       "      <td>Civil marriage</td>\n",
       "      <td>Rented apartment</td>\n",
       "      <td>-12005</td>\n",
       "      <td>-4542</td>\n",
       "      <td>-10</td>\n",
       "      <td>C</td>\n",
       "    </tr>\n",
       "    <tr>\n",
       "      <th>11</th>\n",
       "      <td>5008804</td>\n",
       "      <td>Y</td>\n",
       "      <td>Y</td>\n",
       "      <td>427500.0</td>\n",
       "      <td>Working</td>\n",
       "      <td>Higher education</td>\n",
       "      <td>Civil marriage</td>\n",
       "      <td>Rented apartment</td>\n",
       "      <td>-12005</td>\n",
       "      <td>-4542</td>\n",
       "      <td>-11</td>\n",
       "      <td>C</td>\n",
       "    </tr>\n",
       "    <tr>\n",
       "      <th>12</th>\n",
       "      <td>5008804</td>\n",
       "      <td>Y</td>\n",
       "      <td>Y</td>\n",
       "      <td>427500.0</td>\n",
       "      <td>Working</td>\n",
       "      <td>Higher education</td>\n",
       "      <td>Civil marriage</td>\n",
       "      <td>Rented apartment</td>\n",
       "      <td>-12005</td>\n",
       "      <td>-4542</td>\n",
       "      <td>-12</td>\n",
       "      <td>C</td>\n",
       "    </tr>\n",
       "    <tr>\n",
       "      <th>13</th>\n",
       "      <td>5008804</td>\n",
       "      <td>Y</td>\n",
       "      <td>Y</td>\n",
       "      <td>427500.0</td>\n",
       "      <td>Working</td>\n",
       "      <td>Higher education</td>\n",
       "      <td>Civil marriage</td>\n",
       "      <td>Rented apartment</td>\n",
       "      <td>-12005</td>\n",
       "      <td>-4542</td>\n",
       "      <td>-13</td>\n",
       "      <td>1</td>\n",
       "    </tr>\n",
       "    <tr>\n",
       "      <th>14</th>\n",
       "      <td>5008804</td>\n",
       "      <td>Y</td>\n",
       "      <td>Y</td>\n",
       "      <td>427500.0</td>\n",
       "      <td>Working</td>\n",
       "      <td>Higher education</td>\n",
       "      <td>Civil marriage</td>\n",
       "      <td>Rented apartment</td>\n",
       "      <td>-12005</td>\n",
       "      <td>-4542</td>\n",
       "      <td>-14</td>\n",
       "      <td>0</td>\n",
       "    </tr>\n",
       "    <tr>\n",
       "      <th>15</th>\n",
       "      <td>5008804</td>\n",
       "      <td>Y</td>\n",
       "      <td>Y</td>\n",
       "      <td>427500.0</td>\n",
       "      <td>Working</td>\n",
       "      <td>Higher education</td>\n",
       "      <td>Civil marriage</td>\n",
       "      <td>Rented apartment</td>\n",
       "      <td>-12005</td>\n",
       "      <td>-4542</td>\n",
       "      <td>-15</td>\n",
       "      <td>X</td>\n",
       "    </tr>\n",
       "    <tr>\n",
       "      <th>16</th>\n",
       "      <td>5008805</td>\n",
       "      <td>Y</td>\n",
       "      <td>Y</td>\n",
       "      <td>427500.0</td>\n",
       "      <td>Working</td>\n",
       "      <td>Higher education</td>\n",
       "      <td>Civil marriage</td>\n",
       "      <td>Rented apartment</td>\n",
       "      <td>-12005</td>\n",
       "      <td>-4542</td>\n",
       "      <td>0</td>\n",
       "      <td>C</td>\n",
       "    </tr>\n",
       "    <tr>\n",
       "      <th>17</th>\n",
       "      <td>5008805</td>\n",
       "      <td>Y</td>\n",
       "      <td>Y</td>\n",
       "      <td>427500.0</td>\n",
       "      <td>Working</td>\n",
       "      <td>Higher education</td>\n",
       "      <td>Civil marriage</td>\n",
       "      <td>Rented apartment</td>\n",
       "      <td>-12005</td>\n",
       "      <td>-4542</td>\n",
       "      <td>-1</td>\n",
       "      <td>C</td>\n",
       "    </tr>\n",
       "    <tr>\n",
       "      <th>18</th>\n",
       "      <td>5008805</td>\n",
       "      <td>Y</td>\n",
       "      <td>Y</td>\n",
       "      <td>427500.0</td>\n",
       "      <td>Working</td>\n",
       "      <td>Higher education</td>\n",
       "      <td>Civil marriage</td>\n",
       "      <td>Rented apartment</td>\n",
       "      <td>-12005</td>\n",
       "      <td>-4542</td>\n",
       "      <td>-2</td>\n",
       "      <td>C</td>\n",
       "    </tr>\n",
       "    <tr>\n",
       "      <th>19</th>\n",
       "      <td>5008805</td>\n",
       "      <td>Y</td>\n",
       "      <td>Y</td>\n",
       "      <td>427500.0</td>\n",
       "      <td>Working</td>\n",
       "      <td>Higher education</td>\n",
       "      <td>Civil marriage</td>\n",
       "      <td>Rented apartment</td>\n",
       "      <td>-12005</td>\n",
       "      <td>-4542</td>\n",
       "      <td>-3</td>\n",
       "      <td>C</td>\n",
       "    </tr>\n",
       "  </tbody>\n",
       "</table>\n",
       "</div>"
      ],
      "text/plain": [
       "         ID FLAG_OWN_CAR FLAG_OWN_REALTY  AMT_INCOME_TOTAL NAME_INCOME_TYPE  \\\n",
       "0   5008804            Y               Y          427500.0          Working   \n",
       "1   5008804            Y               Y          427500.0          Working   \n",
       "2   5008804            Y               Y          427500.0          Working   \n",
       "3   5008804            Y               Y          427500.0          Working   \n",
       "4   5008804            Y               Y          427500.0          Working   \n",
       "5   5008804            Y               Y          427500.0          Working   \n",
       "6   5008804            Y               Y          427500.0          Working   \n",
       "7   5008804            Y               Y          427500.0          Working   \n",
       "8   5008804            Y               Y          427500.0          Working   \n",
       "9   5008804            Y               Y          427500.0          Working   \n",
       "10  5008804            Y               Y          427500.0          Working   \n",
       "11  5008804            Y               Y          427500.0          Working   \n",
       "12  5008804            Y               Y          427500.0          Working   \n",
       "13  5008804            Y               Y          427500.0          Working   \n",
       "14  5008804            Y               Y          427500.0          Working   \n",
       "15  5008804            Y               Y          427500.0          Working   \n",
       "16  5008805            Y               Y          427500.0          Working   \n",
       "17  5008805            Y               Y          427500.0          Working   \n",
       "18  5008805            Y               Y          427500.0          Working   \n",
       "19  5008805            Y               Y          427500.0          Working   \n",
       "\n",
       "   NAME_EDUCATION_TYPE NAME_FAMILY_STATUS NAME_HOUSING_TYPE  DAYS_BIRTH  \\\n",
       "0     Higher education     Civil marriage  Rented apartment      -12005   \n",
       "1     Higher education     Civil marriage  Rented apartment      -12005   \n",
       "2     Higher education     Civil marriage  Rented apartment      -12005   \n",
       "3     Higher education     Civil marriage  Rented apartment      -12005   \n",
       "4     Higher education     Civil marriage  Rented apartment      -12005   \n",
       "5     Higher education     Civil marriage  Rented apartment      -12005   \n",
       "6     Higher education     Civil marriage  Rented apartment      -12005   \n",
       "7     Higher education     Civil marriage  Rented apartment      -12005   \n",
       "8     Higher education     Civil marriage  Rented apartment      -12005   \n",
       "9     Higher education     Civil marriage  Rented apartment      -12005   \n",
       "10    Higher education     Civil marriage  Rented apartment      -12005   \n",
       "11    Higher education     Civil marriage  Rented apartment      -12005   \n",
       "12    Higher education     Civil marriage  Rented apartment      -12005   \n",
       "13    Higher education     Civil marriage  Rented apartment      -12005   \n",
       "14    Higher education     Civil marriage  Rented apartment      -12005   \n",
       "15    Higher education     Civil marriage  Rented apartment      -12005   \n",
       "16    Higher education     Civil marriage  Rented apartment      -12005   \n",
       "17    Higher education     Civil marriage  Rented apartment      -12005   \n",
       "18    Higher education     Civil marriage  Rented apartment      -12005   \n",
       "19    Higher education     Civil marriage  Rented apartment      -12005   \n",
       "\n",
       "    DAYS_EMPLOYED  MONTHS_BALANCE STATUS  \n",
       "0           -4542               0      C  \n",
       "1           -4542              -1      C  \n",
       "2           -4542              -2      C  \n",
       "3           -4542              -3      C  \n",
       "4           -4542              -4      C  \n",
       "5           -4542              -5      C  \n",
       "6           -4542              -6      C  \n",
       "7           -4542              -7      C  \n",
       "8           -4542              -8      C  \n",
       "9           -4542              -9      C  \n",
       "10          -4542             -10      C  \n",
       "11          -4542             -11      C  \n",
       "12          -4542             -12      C  \n",
       "13          -4542             -13      1  \n",
       "14          -4542             -14      0  \n",
       "15          -4542             -15      X  \n",
       "16          -4542               0      C  \n",
       "17          -4542              -1      C  \n",
       "18          -4542              -2      C  \n",
       "19          -4542              -3      C  "
      ]
     },
     "execution_count": 73,
     "metadata": {},
     "output_type": "execute_result"
    }
   ],
   "source": [
    "comprehensive.head(20)"
   ]
  },
  {
   "cell_type": "markdown",
   "id": "eeb2e855",
   "metadata": {},
   "source": [
    "### Observations\n",
    "We have multiple entries for the same person, which is important to keep for the sake of better understanding when we throw the data into an unsupervised ML model. We may be able to gain insight into something like their balance or status in relation to some other data point we haven't yet considered. \n",
    "\n",
    "Moving from this,  our \"DAYS_BIRTH\" column is incredibly unintuitive for humans to read, so our next step will be to convert it to years. And because the we don't care about fractions of a year, we'll use floor division. Additionally we'll adjust the \"DAYS_EMPLOYED\" and \"MONTHS_BALANCE\" columns to positive values"
   ]
  },
  {
   "cell_type": "code",
   "execution_count": 74,
   "id": "beaf2d9b",
   "metadata": {},
   "outputs": [],
   "source": [
    "#Divide the DAYS_BIRTH to years for our use\n",
    "import numpy as np\n",
    "comprehensive[\"DAYS_BIRTH\"] = comprehensive[\"DAYS_BIRTH\"].div(-365).apply(np.floor)\n",
    "\n",
    "#We divided by -365 to get the values from negative to positive"
   ]
  },
  {
   "cell_type": "code",
   "execution_count": 75,
   "id": "98b77cb9",
   "metadata": {},
   "outputs": [
    {
     "data": {
      "text/html": [
       "<div>\n",
       "<style scoped>\n",
       "    .dataframe tbody tr th:only-of-type {\n",
       "        vertical-align: middle;\n",
       "    }\n",
       "\n",
       "    .dataframe tbody tr th {\n",
       "        vertical-align: top;\n",
       "    }\n",
       "\n",
       "    .dataframe thead th {\n",
       "        text-align: right;\n",
       "    }\n",
       "</style>\n",
       "<table border=\"1\" class=\"dataframe\">\n",
       "  <thead>\n",
       "    <tr style=\"text-align: right;\">\n",
       "      <th></th>\n",
       "      <th>ID</th>\n",
       "      <th>FLAG_OWN_CAR</th>\n",
       "      <th>FLAG_OWN_REALTY</th>\n",
       "      <th>AMT_INCOME_TOTAL</th>\n",
       "      <th>NAME_INCOME_TYPE</th>\n",
       "      <th>NAME_EDUCATION_TYPE</th>\n",
       "      <th>NAME_FAMILY_STATUS</th>\n",
       "      <th>NAME_HOUSING_TYPE</th>\n",
       "      <th>YEARS_OLD</th>\n",
       "      <th>DAYS_EMPLOYED</th>\n",
       "      <th>MONTHS_BALANCE</th>\n",
       "      <th>STATUS</th>\n",
       "    </tr>\n",
       "  </thead>\n",
       "  <tbody>\n",
       "    <tr>\n",
       "      <th>0</th>\n",
       "      <td>5008804</td>\n",
       "      <td>Y</td>\n",
       "      <td>Y</td>\n",
       "      <td>427500.0</td>\n",
       "      <td>Working</td>\n",
       "      <td>Higher education</td>\n",
       "      <td>Civil marriage</td>\n",
       "      <td>Rented apartment</td>\n",
       "      <td>32.0</td>\n",
       "      <td>-4542</td>\n",
       "      <td>0</td>\n",
       "      <td>C</td>\n",
       "    </tr>\n",
       "    <tr>\n",
       "      <th>1</th>\n",
       "      <td>5008804</td>\n",
       "      <td>Y</td>\n",
       "      <td>Y</td>\n",
       "      <td>427500.0</td>\n",
       "      <td>Working</td>\n",
       "      <td>Higher education</td>\n",
       "      <td>Civil marriage</td>\n",
       "      <td>Rented apartment</td>\n",
       "      <td>32.0</td>\n",
       "      <td>-4542</td>\n",
       "      <td>-1</td>\n",
       "      <td>C</td>\n",
       "    </tr>\n",
       "    <tr>\n",
       "      <th>2</th>\n",
       "      <td>5008804</td>\n",
       "      <td>Y</td>\n",
       "      <td>Y</td>\n",
       "      <td>427500.0</td>\n",
       "      <td>Working</td>\n",
       "      <td>Higher education</td>\n",
       "      <td>Civil marriage</td>\n",
       "      <td>Rented apartment</td>\n",
       "      <td>32.0</td>\n",
       "      <td>-4542</td>\n",
       "      <td>-2</td>\n",
       "      <td>C</td>\n",
       "    </tr>\n",
       "    <tr>\n",
       "      <th>3</th>\n",
       "      <td>5008804</td>\n",
       "      <td>Y</td>\n",
       "      <td>Y</td>\n",
       "      <td>427500.0</td>\n",
       "      <td>Working</td>\n",
       "      <td>Higher education</td>\n",
       "      <td>Civil marriage</td>\n",
       "      <td>Rented apartment</td>\n",
       "      <td>32.0</td>\n",
       "      <td>-4542</td>\n",
       "      <td>-3</td>\n",
       "      <td>C</td>\n",
       "    </tr>\n",
       "    <tr>\n",
       "      <th>4</th>\n",
       "      <td>5008804</td>\n",
       "      <td>Y</td>\n",
       "      <td>Y</td>\n",
       "      <td>427500.0</td>\n",
       "      <td>Working</td>\n",
       "      <td>Higher education</td>\n",
       "      <td>Civil marriage</td>\n",
       "      <td>Rented apartment</td>\n",
       "      <td>32.0</td>\n",
       "      <td>-4542</td>\n",
       "      <td>-4</td>\n",
       "      <td>C</td>\n",
       "    </tr>\n",
       "    <tr>\n",
       "      <th>...</th>\n",
       "      <td>...</td>\n",
       "      <td>...</td>\n",
       "      <td>...</td>\n",
       "      <td>...</td>\n",
       "      <td>...</td>\n",
       "      <td>...</td>\n",
       "      <td>...</td>\n",
       "      <td>...</td>\n",
       "      <td>...</td>\n",
       "      <td>...</td>\n",
       "      <td>...</td>\n",
       "      <td>...</td>\n",
       "    </tr>\n",
       "    <tr>\n",
       "      <th>95</th>\n",
       "      <td>5008810</td>\n",
       "      <td>N</td>\n",
       "      <td>Y</td>\n",
       "      <td>270000.0</td>\n",
       "      <td>Commercial associate</td>\n",
       "      <td>Secondary / secondary special</td>\n",
       "      <td>Single / not married</td>\n",
       "      <td>House / apartment</td>\n",
       "      <td>52.0</td>\n",
       "      <td>-3051</td>\n",
       "      <td>-24</td>\n",
       "      <td>0</td>\n",
       "    </tr>\n",
       "    <tr>\n",
       "      <th>96</th>\n",
       "      <td>5008810</td>\n",
       "      <td>N</td>\n",
       "      <td>Y</td>\n",
       "      <td>270000.0</td>\n",
       "      <td>Commercial associate</td>\n",
       "      <td>Secondary / secondary special</td>\n",
       "      <td>Single / not married</td>\n",
       "      <td>House / apartment</td>\n",
       "      <td>52.0</td>\n",
       "      <td>-3051</td>\n",
       "      <td>-25</td>\n",
       "      <td>X</td>\n",
       "    </tr>\n",
       "    <tr>\n",
       "      <th>97</th>\n",
       "      <td>5008810</td>\n",
       "      <td>N</td>\n",
       "      <td>Y</td>\n",
       "      <td>270000.0</td>\n",
       "      <td>Commercial associate</td>\n",
       "      <td>Secondary / secondary special</td>\n",
       "      <td>Single / not married</td>\n",
       "      <td>House / apartment</td>\n",
       "      <td>52.0</td>\n",
       "      <td>-3051</td>\n",
       "      <td>-26</td>\n",
       "      <td>X</td>\n",
       "    </tr>\n",
       "    <tr>\n",
       "      <th>98</th>\n",
       "      <td>5008811</td>\n",
       "      <td>N</td>\n",
       "      <td>Y</td>\n",
       "      <td>270000.0</td>\n",
       "      <td>Commercial associate</td>\n",
       "      <td>Secondary / secondary special</td>\n",
       "      <td>Single / not married</td>\n",
       "      <td>House / apartment</td>\n",
       "      <td>52.0</td>\n",
       "      <td>-3051</td>\n",
       "      <td>0</td>\n",
       "      <td>C</td>\n",
       "    </tr>\n",
       "    <tr>\n",
       "      <th>99</th>\n",
       "      <td>5008811</td>\n",
       "      <td>N</td>\n",
       "      <td>Y</td>\n",
       "      <td>270000.0</td>\n",
       "      <td>Commercial associate</td>\n",
       "      <td>Secondary / secondary special</td>\n",
       "      <td>Single / not married</td>\n",
       "      <td>House / apartment</td>\n",
       "      <td>52.0</td>\n",
       "      <td>-3051</td>\n",
       "      <td>-1</td>\n",
       "      <td>C</td>\n",
       "    </tr>\n",
       "  </tbody>\n",
       "</table>\n",
       "<p>100 rows × 12 columns</p>\n",
       "</div>"
      ],
      "text/plain": [
       "         ID FLAG_OWN_CAR FLAG_OWN_REALTY  AMT_INCOME_TOTAL  \\\n",
       "0   5008804            Y               Y          427500.0   \n",
       "1   5008804            Y               Y          427500.0   \n",
       "2   5008804            Y               Y          427500.0   \n",
       "3   5008804            Y               Y          427500.0   \n",
       "4   5008804            Y               Y          427500.0   \n",
       "..      ...          ...             ...               ...   \n",
       "95  5008810            N               Y          270000.0   \n",
       "96  5008810            N               Y          270000.0   \n",
       "97  5008810            N               Y          270000.0   \n",
       "98  5008811            N               Y          270000.0   \n",
       "99  5008811            N               Y          270000.0   \n",
       "\n",
       "        NAME_INCOME_TYPE            NAME_EDUCATION_TYPE    NAME_FAMILY_STATUS  \\\n",
       "0                Working               Higher education        Civil marriage   \n",
       "1                Working               Higher education        Civil marriage   \n",
       "2                Working               Higher education        Civil marriage   \n",
       "3                Working               Higher education        Civil marriage   \n",
       "4                Working               Higher education        Civil marriage   \n",
       "..                   ...                            ...                   ...   \n",
       "95  Commercial associate  Secondary / secondary special  Single / not married   \n",
       "96  Commercial associate  Secondary / secondary special  Single / not married   \n",
       "97  Commercial associate  Secondary / secondary special  Single / not married   \n",
       "98  Commercial associate  Secondary / secondary special  Single / not married   \n",
       "99  Commercial associate  Secondary / secondary special  Single / not married   \n",
       "\n",
       "    NAME_HOUSING_TYPE  YEARS_OLD  DAYS_EMPLOYED  MONTHS_BALANCE STATUS  \n",
       "0    Rented apartment       32.0          -4542               0      C  \n",
       "1    Rented apartment       32.0          -4542              -1      C  \n",
       "2    Rented apartment       32.0          -4542              -2      C  \n",
       "3    Rented apartment       32.0          -4542              -3      C  \n",
       "4    Rented apartment       32.0          -4542              -4      C  \n",
       "..                ...        ...            ...             ...    ...  \n",
       "95  House / apartment       52.0          -3051             -24      0  \n",
       "96  House / apartment       52.0          -3051             -25      X  \n",
       "97  House / apartment       52.0          -3051             -26      X  \n",
       "98  House / apartment       52.0          -3051               0      C  \n",
       "99  House / apartment       52.0          -3051              -1      C  \n",
       "\n",
       "[100 rows x 12 columns]"
      ]
     },
     "execution_count": 75,
     "metadata": {},
     "output_type": "execute_result"
    }
   ],
   "source": [
    "#Rename DAYS_BIRTH to YEARS_OLD\n",
    "comprehensive = comprehensive.rename(columns={\"DAYS_BIRTH\":\"YEARS_OLD\"})\n",
    "comprehensive.head(100)"
   ]
  },
  {
   "cell_type": "code",
   "execution_count": 76,
   "id": "92fe06ed",
   "metadata": {},
   "outputs": [
    {
     "data": {
      "text/html": [
       "<div>\n",
       "<style scoped>\n",
       "    .dataframe tbody tr th:only-of-type {\n",
       "        vertical-align: middle;\n",
       "    }\n",
       "\n",
       "    .dataframe tbody tr th {\n",
       "        vertical-align: top;\n",
       "    }\n",
       "\n",
       "    .dataframe thead th {\n",
       "        text-align: right;\n",
       "    }\n",
       "</style>\n",
       "<table border=\"1\" class=\"dataframe\">\n",
       "  <thead>\n",
       "    <tr style=\"text-align: right;\">\n",
       "      <th></th>\n",
       "      <th>ID</th>\n",
       "      <th>FLAG_OWN_CAR</th>\n",
       "      <th>FLAG_OWN_REALTY</th>\n",
       "      <th>AMT_INCOME_TOTAL</th>\n",
       "      <th>NAME_INCOME_TYPE</th>\n",
       "      <th>NAME_EDUCATION_TYPE</th>\n",
       "      <th>NAME_FAMILY_STATUS</th>\n",
       "      <th>NAME_HOUSING_TYPE</th>\n",
       "      <th>YEARS_OLD</th>\n",
       "      <th>DAYS_EMPLOYED</th>\n",
       "      <th>MONTHS_BALANCE</th>\n",
       "      <th>STATUS</th>\n",
       "    </tr>\n",
       "  </thead>\n",
       "  <tbody>\n",
       "    <tr>\n",
       "      <th>0</th>\n",
       "      <td>5008804</td>\n",
       "      <td>Y</td>\n",
       "      <td>Y</td>\n",
       "      <td>427500.0</td>\n",
       "      <td>Working</td>\n",
       "      <td>Higher education</td>\n",
       "      <td>Civil marriage</td>\n",
       "      <td>Rented apartment</td>\n",
       "      <td>32.0</td>\n",
       "      <td>4542.0</td>\n",
       "      <td>-0.0</td>\n",
       "      <td>C</td>\n",
       "    </tr>\n",
       "    <tr>\n",
       "      <th>1</th>\n",
       "      <td>5008804</td>\n",
       "      <td>Y</td>\n",
       "      <td>Y</td>\n",
       "      <td>427500.0</td>\n",
       "      <td>Working</td>\n",
       "      <td>Higher education</td>\n",
       "      <td>Civil marriage</td>\n",
       "      <td>Rented apartment</td>\n",
       "      <td>32.0</td>\n",
       "      <td>4542.0</td>\n",
       "      <td>1.0</td>\n",
       "      <td>C</td>\n",
       "    </tr>\n",
       "    <tr>\n",
       "      <th>2</th>\n",
       "      <td>5008804</td>\n",
       "      <td>Y</td>\n",
       "      <td>Y</td>\n",
       "      <td>427500.0</td>\n",
       "      <td>Working</td>\n",
       "      <td>Higher education</td>\n",
       "      <td>Civil marriage</td>\n",
       "      <td>Rented apartment</td>\n",
       "      <td>32.0</td>\n",
       "      <td>4542.0</td>\n",
       "      <td>2.0</td>\n",
       "      <td>C</td>\n",
       "    </tr>\n",
       "    <tr>\n",
       "      <th>3</th>\n",
       "      <td>5008804</td>\n",
       "      <td>Y</td>\n",
       "      <td>Y</td>\n",
       "      <td>427500.0</td>\n",
       "      <td>Working</td>\n",
       "      <td>Higher education</td>\n",
       "      <td>Civil marriage</td>\n",
       "      <td>Rented apartment</td>\n",
       "      <td>32.0</td>\n",
       "      <td>4542.0</td>\n",
       "      <td>3.0</td>\n",
       "      <td>C</td>\n",
       "    </tr>\n",
       "    <tr>\n",
       "      <th>4</th>\n",
       "      <td>5008804</td>\n",
       "      <td>Y</td>\n",
       "      <td>Y</td>\n",
       "      <td>427500.0</td>\n",
       "      <td>Working</td>\n",
       "      <td>Higher education</td>\n",
       "      <td>Civil marriage</td>\n",
       "      <td>Rented apartment</td>\n",
       "      <td>32.0</td>\n",
       "      <td>4542.0</td>\n",
       "      <td>4.0</td>\n",
       "      <td>C</td>\n",
       "    </tr>\n",
       "    <tr>\n",
       "      <th>...</th>\n",
       "      <td>...</td>\n",
       "      <td>...</td>\n",
       "      <td>...</td>\n",
       "      <td>...</td>\n",
       "      <td>...</td>\n",
       "      <td>...</td>\n",
       "      <td>...</td>\n",
       "      <td>...</td>\n",
       "      <td>...</td>\n",
       "      <td>...</td>\n",
       "      <td>...</td>\n",
       "      <td>...</td>\n",
       "    </tr>\n",
       "    <tr>\n",
       "      <th>95</th>\n",
       "      <td>5008810</td>\n",
       "      <td>N</td>\n",
       "      <td>Y</td>\n",
       "      <td>270000.0</td>\n",
       "      <td>Commercial associate</td>\n",
       "      <td>Secondary / secondary special</td>\n",
       "      <td>Single / not married</td>\n",
       "      <td>House / apartment</td>\n",
       "      <td>52.0</td>\n",
       "      <td>3051.0</td>\n",
       "      <td>24.0</td>\n",
       "      <td>0</td>\n",
       "    </tr>\n",
       "    <tr>\n",
       "      <th>96</th>\n",
       "      <td>5008810</td>\n",
       "      <td>N</td>\n",
       "      <td>Y</td>\n",
       "      <td>270000.0</td>\n",
       "      <td>Commercial associate</td>\n",
       "      <td>Secondary / secondary special</td>\n",
       "      <td>Single / not married</td>\n",
       "      <td>House / apartment</td>\n",
       "      <td>52.0</td>\n",
       "      <td>3051.0</td>\n",
       "      <td>25.0</td>\n",
       "      <td>X</td>\n",
       "    </tr>\n",
       "    <tr>\n",
       "      <th>97</th>\n",
       "      <td>5008810</td>\n",
       "      <td>N</td>\n",
       "      <td>Y</td>\n",
       "      <td>270000.0</td>\n",
       "      <td>Commercial associate</td>\n",
       "      <td>Secondary / secondary special</td>\n",
       "      <td>Single / not married</td>\n",
       "      <td>House / apartment</td>\n",
       "      <td>52.0</td>\n",
       "      <td>3051.0</td>\n",
       "      <td>26.0</td>\n",
       "      <td>X</td>\n",
       "    </tr>\n",
       "    <tr>\n",
       "      <th>98</th>\n",
       "      <td>5008811</td>\n",
       "      <td>N</td>\n",
       "      <td>Y</td>\n",
       "      <td>270000.0</td>\n",
       "      <td>Commercial associate</td>\n",
       "      <td>Secondary / secondary special</td>\n",
       "      <td>Single / not married</td>\n",
       "      <td>House / apartment</td>\n",
       "      <td>52.0</td>\n",
       "      <td>3051.0</td>\n",
       "      <td>-0.0</td>\n",
       "      <td>C</td>\n",
       "    </tr>\n",
       "    <tr>\n",
       "      <th>99</th>\n",
       "      <td>5008811</td>\n",
       "      <td>N</td>\n",
       "      <td>Y</td>\n",
       "      <td>270000.0</td>\n",
       "      <td>Commercial associate</td>\n",
       "      <td>Secondary / secondary special</td>\n",
       "      <td>Single / not married</td>\n",
       "      <td>House / apartment</td>\n",
       "      <td>52.0</td>\n",
       "      <td>3051.0</td>\n",
       "      <td>1.0</td>\n",
       "      <td>C</td>\n",
       "    </tr>\n",
       "  </tbody>\n",
       "</table>\n",
       "<p>100 rows × 12 columns</p>\n",
       "</div>"
      ],
      "text/plain": [
       "         ID FLAG_OWN_CAR FLAG_OWN_REALTY  AMT_INCOME_TOTAL  \\\n",
       "0   5008804            Y               Y          427500.0   \n",
       "1   5008804            Y               Y          427500.0   \n",
       "2   5008804            Y               Y          427500.0   \n",
       "3   5008804            Y               Y          427500.0   \n",
       "4   5008804            Y               Y          427500.0   \n",
       "..      ...          ...             ...               ...   \n",
       "95  5008810            N               Y          270000.0   \n",
       "96  5008810            N               Y          270000.0   \n",
       "97  5008810            N               Y          270000.0   \n",
       "98  5008811            N               Y          270000.0   \n",
       "99  5008811            N               Y          270000.0   \n",
       "\n",
       "        NAME_INCOME_TYPE            NAME_EDUCATION_TYPE    NAME_FAMILY_STATUS  \\\n",
       "0                Working               Higher education        Civil marriage   \n",
       "1                Working               Higher education        Civil marriage   \n",
       "2                Working               Higher education        Civil marriage   \n",
       "3                Working               Higher education        Civil marriage   \n",
       "4                Working               Higher education        Civil marriage   \n",
       "..                   ...                            ...                   ...   \n",
       "95  Commercial associate  Secondary / secondary special  Single / not married   \n",
       "96  Commercial associate  Secondary / secondary special  Single / not married   \n",
       "97  Commercial associate  Secondary / secondary special  Single / not married   \n",
       "98  Commercial associate  Secondary / secondary special  Single / not married   \n",
       "99  Commercial associate  Secondary / secondary special  Single / not married   \n",
       "\n",
       "    NAME_HOUSING_TYPE  YEARS_OLD  DAYS_EMPLOYED  MONTHS_BALANCE STATUS  \n",
       "0    Rented apartment       32.0         4542.0            -0.0      C  \n",
       "1    Rented apartment       32.0         4542.0             1.0      C  \n",
       "2    Rented apartment       32.0         4542.0             2.0      C  \n",
       "3    Rented apartment       32.0         4542.0             3.0      C  \n",
       "4    Rented apartment       32.0         4542.0             4.0      C  \n",
       "..                ...        ...            ...             ...    ...  \n",
       "95  House / apartment       52.0         3051.0            24.0      0  \n",
       "96  House / apartment       52.0         3051.0            25.0      X  \n",
       "97  House / apartment       52.0         3051.0            26.0      X  \n",
       "98  House / apartment       52.0         3051.0            -0.0      C  \n",
       "99  House / apartment       52.0         3051.0             1.0      C  \n",
       "\n",
       "[100 rows x 12 columns]"
      ]
     },
     "execution_count": 76,
     "metadata": {},
     "output_type": "execute_result"
    }
   ],
   "source": [
    "#Adjust \"DAYS_EMPLOYED\" and \"MONTHS BALANCE\"\n",
    "comprehensive[\"DAYS_EMPLOYED\"] = comprehensive[\"DAYS_EMPLOYED\"].div(-1)\n",
    "comprehensive[\"MONTHS_BALANCE\"] = comprehensive[\"MONTHS_BALANCE\"].div(-1)\n",
    "comprehensive.head(100)"
   ]
  },
  {
   "cell_type": "markdown",
   "id": "76b55cbb",
   "metadata": {},
   "source": [
    "### Now what?\n",
    "Let's check for null values to make sure data set is complete then export for usage in other models"
   ]
  },
  {
   "cell_type": "code",
   "execution_count": 77,
   "id": "07035da1",
   "metadata": {},
   "outputs": [
    {
     "data": {
      "text/plain": [
       "ID                     0\n",
       "FLAG_OWN_CAR           0\n",
       "FLAG_OWN_REALTY        0\n",
       "AMT_INCOME_TOTAL       0\n",
       "NAME_INCOME_TYPE       0\n",
       "NAME_EDUCATION_TYPE    0\n",
       "NAME_FAMILY_STATUS     0\n",
       "NAME_HOUSING_TYPE      0\n",
       "YEARS_OLD              0\n",
       "DAYS_EMPLOYED          0\n",
       "MONTHS_BALANCE         0\n",
       "STATUS                 0\n",
       "dtype: int64"
      ]
     },
     "execution_count": 77,
     "metadata": {},
     "output_type": "execute_result"
    }
   ],
   "source": [
    "comprehensive.isnull().sum()\n"
   ]
  },
  {
   "cell_type": "code",
   "execution_count": 78,
   "id": "da2e9352",
   "metadata": {},
   "outputs": [
    {
     "name": "stdout",
     "output_type": "stream",
     "text": [
      "36457\n"
     ]
    }
   ],
   "source": [
    "#Unique ID vals\n",
    "print(len(pd.unique(comprehensive[\"ID\"])))"
   ]
  },
  {
   "cell_type": "markdown",
   "id": "e15d492f",
   "metadata": {},
   "source": [
    "## Exploration: Diving into K-Means Clustering\n",
    "\n",
    "We'll first need to modify the values of the \"STATUS\" columns to be numerical for the sake of clustering"
   ]
  },
  {
   "cell_type": "code",
   "execution_count": 79,
   "id": "cfa24661",
   "metadata": {},
   "outputs": [],
   "source": [
    "#Replace \"STATUS\" column values with 1 (low risk/likely to approve), 0 (high risk/unlikely to approve)\n",
    "\n",
    "replace_dict = {\"C\" : 1,\n",
    "               \"X\": 1,\n",
    "               \"0\": 1,\n",
    "               \"1\": 0,\n",
    "               \"2\": 0,\n",
    "               \"3\": 0,\n",
    "               \"4\": 0,\n",
    "               \"5\": 0}\n",
    "\n",
    "comprehensive.replace({\"STATUS\": replace_dict}, inplace=True)\n"
   ]
  },
  {
   "cell_type": "markdown",
   "id": "22147fc2",
   "metadata": {},
   "source": [
    "Now that we have the data *mostly* prepped for clustering we can begin looking at the features we want to use for K-Means clustering. Using all the columns is unlikely to give usable data for analysis, so we'll cut it down to two feature inputs (columns): x and \"STATUS\", where x is a column that has some potential relevance to the \"STATUS\" column like \"DAYS_EMPLOYED\". \n",
    "\n",
    "The importance of the \"STATUS\" column cannot be understated enough because it is the largest factor for creditors to assess creditworthiness. For FICO Scores, 35% of the score is based on Payment History (https://www.myfico.com/credit-education/whats-in-your-credit-score), and this column is our closest approximation to that data point.  \n",
    "\n",
    "The idea for this section is to see if there exist any clear relationships within any of the other columns (x) and the \"STATUS\" column"
   ]
  },
  {
   "cell_type": "code",
   "execution_count": 80,
   "id": "92e9e6d1",
   "metadata": {},
   "outputs": [],
   "source": [
    "# Preserve the data for future use\n",
    "comprehensive.to_csv('updatedMergedApplicationCreditRecords.csv')"
   ]
  },
  {
   "cell_type": "code",
   "execution_count": 81,
   "id": "bebb6df8",
   "metadata": {},
   "outputs": [
    {
     "data": {
      "text/html": [
       "<div>\n",
       "<style scoped>\n",
       "    .dataframe tbody tr th:only-of-type {\n",
       "        vertical-align: middle;\n",
       "    }\n",
       "\n",
       "    .dataframe tbody tr th {\n",
       "        vertical-align: top;\n",
       "    }\n",
       "\n",
       "    .dataframe thead th {\n",
       "        text-align: right;\n",
       "    }\n",
       "</style>\n",
       "<table border=\"1\" class=\"dataframe\">\n",
       "  <thead>\n",
       "    <tr style=\"text-align: right;\">\n",
       "      <th></th>\n",
       "      <th>ID</th>\n",
       "      <th>FLAG_OWN_CAR</th>\n",
       "      <th>FLAG_OWN_REALTY</th>\n",
       "      <th>AMT_INCOME_TOTAL</th>\n",
       "      <th>NAME_INCOME_TYPE</th>\n",
       "      <th>NAME_EDUCATION_TYPE</th>\n",
       "      <th>NAME_FAMILY_STATUS</th>\n",
       "      <th>NAME_HOUSING_TYPE</th>\n",
       "      <th>YEARS_OLD</th>\n",
       "      <th>DAYS_EMPLOYED</th>\n",
       "      <th>MONTHS_BALANCE</th>\n",
       "      <th>STATUS</th>\n",
       "    </tr>\n",
       "  </thead>\n",
       "  <tbody>\n",
       "    <tr>\n",
       "      <th>0</th>\n",
       "      <td>5008804</td>\n",
       "      <td>Y</td>\n",
       "      <td>Y</td>\n",
       "      <td>427500.0</td>\n",
       "      <td>Working</td>\n",
       "      <td>Higher education</td>\n",
       "      <td>Civil marriage</td>\n",
       "      <td>Rented apartment</td>\n",
       "      <td>32.0</td>\n",
       "      <td>4542.0</td>\n",
       "      <td>-0.0</td>\n",
       "      <td>1</td>\n",
       "    </tr>\n",
       "    <tr>\n",
       "      <th>1</th>\n",
       "      <td>5008804</td>\n",
       "      <td>Y</td>\n",
       "      <td>Y</td>\n",
       "      <td>427500.0</td>\n",
       "      <td>Working</td>\n",
       "      <td>Higher education</td>\n",
       "      <td>Civil marriage</td>\n",
       "      <td>Rented apartment</td>\n",
       "      <td>32.0</td>\n",
       "      <td>4542.0</td>\n",
       "      <td>1.0</td>\n",
       "      <td>1</td>\n",
       "    </tr>\n",
       "    <tr>\n",
       "      <th>2</th>\n",
       "      <td>5008804</td>\n",
       "      <td>Y</td>\n",
       "      <td>Y</td>\n",
       "      <td>427500.0</td>\n",
       "      <td>Working</td>\n",
       "      <td>Higher education</td>\n",
       "      <td>Civil marriage</td>\n",
       "      <td>Rented apartment</td>\n",
       "      <td>32.0</td>\n",
       "      <td>4542.0</td>\n",
       "      <td>2.0</td>\n",
       "      <td>1</td>\n",
       "    </tr>\n",
       "    <tr>\n",
       "      <th>3</th>\n",
       "      <td>5008804</td>\n",
       "      <td>Y</td>\n",
       "      <td>Y</td>\n",
       "      <td>427500.0</td>\n",
       "      <td>Working</td>\n",
       "      <td>Higher education</td>\n",
       "      <td>Civil marriage</td>\n",
       "      <td>Rented apartment</td>\n",
       "      <td>32.0</td>\n",
       "      <td>4542.0</td>\n",
       "      <td>3.0</td>\n",
       "      <td>1</td>\n",
       "    </tr>\n",
       "    <tr>\n",
       "      <th>4</th>\n",
       "      <td>5008804</td>\n",
       "      <td>Y</td>\n",
       "      <td>Y</td>\n",
       "      <td>427500.0</td>\n",
       "      <td>Working</td>\n",
       "      <td>Higher education</td>\n",
       "      <td>Civil marriage</td>\n",
       "      <td>Rented apartment</td>\n",
       "      <td>32.0</td>\n",
       "      <td>4542.0</td>\n",
       "      <td>4.0</td>\n",
       "      <td>1</td>\n",
       "    </tr>\n",
       "    <tr>\n",
       "      <th>5</th>\n",
       "      <td>5008804</td>\n",
       "      <td>Y</td>\n",
       "      <td>Y</td>\n",
       "      <td>427500.0</td>\n",
       "      <td>Working</td>\n",
       "      <td>Higher education</td>\n",
       "      <td>Civil marriage</td>\n",
       "      <td>Rented apartment</td>\n",
       "      <td>32.0</td>\n",
       "      <td>4542.0</td>\n",
       "      <td>5.0</td>\n",
       "      <td>1</td>\n",
       "    </tr>\n",
       "    <tr>\n",
       "      <th>6</th>\n",
       "      <td>5008804</td>\n",
       "      <td>Y</td>\n",
       "      <td>Y</td>\n",
       "      <td>427500.0</td>\n",
       "      <td>Working</td>\n",
       "      <td>Higher education</td>\n",
       "      <td>Civil marriage</td>\n",
       "      <td>Rented apartment</td>\n",
       "      <td>32.0</td>\n",
       "      <td>4542.0</td>\n",
       "      <td>6.0</td>\n",
       "      <td>1</td>\n",
       "    </tr>\n",
       "    <tr>\n",
       "      <th>7</th>\n",
       "      <td>5008804</td>\n",
       "      <td>Y</td>\n",
       "      <td>Y</td>\n",
       "      <td>427500.0</td>\n",
       "      <td>Working</td>\n",
       "      <td>Higher education</td>\n",
       "      <td>Civil marriage</td>\n",
       "      <td>Rented apartment</td>\n",
       "      <td>32.0</td>\n",
       "      <td>4542.0</td>\n",
       "      <td>7.0</td>\n",
       "      <td>1</td>\n",
       "    </tr>\n",
       "    <tr>\n",
       "      <th>8</th>\n",
       "      <td>5008804</td>\n",
       "      <td>Y</td>\n",
       "      <td>Y</td>\n",
       "      <td>427500.0</td>\n",
       "      <td>Working</td>\n",
       "      <td>Higher education</td>\n",
       "      <td>Civil marriage</td>\n",
       "      <td>Rented apartment</td>\n",
       "      <td>32.0</td>\n",
       "      <td>4542.0</td>\n",
       "      <td>8.0</td>\n",
       "      <td>1</td>\n",
       "    </tr>\n",
       "    <tr>\n",
       "      <th>9</th>\n",
       "      <td>5008804</td>\n",
       "      <td>Y</td>\n",
       "      <td>Y</td>\n",
       "      <td>427500.0</td>\n",
       "      <td>Working</td>\n",
       "      <td>Higher education</td>\n",
       "      <td>Civil marriage</td>\n",
       "      <td>Rented apartment</td>\n",
       "      <td>32.0</td>\n",
       "      <td>4542.0</td>\n",
       "      <td>9.0</td>\n",
       "      <td>1</td>\n",
       "    </tr>\n",
       "    <tr>\n",
       "      <th>10</th>\n",
       "      <td>5008804</td>\n",
       "      <td>Y</td>\n",
       "      <td>Y</td>\n",
       "      <td>427500.0</td>\n",
       "      <td>Working</td>\n",
       "      <td>Higher education</td>\n",
       "      <td>Civil marriage</td>\n",
       "      <td>Rented apartment</td>\n",
       "      <td>32.0</td>\n",
       "      <td>4542.0</td>\n",
       "      <td>10.0</td>\n",
       "      <td>1</td>\n",
       "    </tr>\n",
       "    <tr>\n",
       "      <th>11</th>\n",
       "      <td>5008804</td>\n",
       "      <td>Y</td>\n",
       "      <td>Y</td>\n",
       "      <td>427500.0</td>\n",
       "      <td>Working</td>\n",
       "      <td>Higher education</td>\n",
       "      <td>Civil marriage</td>\n",
       "      <td>Rented apartment</td>\n",
       "      <td>32.0</td>\n",
       "      <td>4542.0</td>\n",
       "      <td>11.0</td>\n",
       "      <td>1</td>\n",
       "    </tr>\n",
       "    <tr>\n",
       "      <th>12</th>\n",
       "      <td>5008804</td>\n",
       "      <td>Y</td>\n",
       "      <td>Y</td>\n",
       "      <td>427500.0</td>\n",
       "      <td>Working</td>\n",
       "      <td>Higher education</td>\n",
       "      <td>Civil marriage</td>\n",
       "      <td>Rented apartment</td>\n",
       "      <td>32.0</td>\n",
       "      <td>4542.0</td>\n",
       "      <td>12.0</td>\n",
       "      <td>1</td>\n",
       "    </tr>\n",
       "    <tr>\n",
       "      <th>13</th>\n",
       "      <td>5008804</td>\n",
       "      <td>Y</td>\n",
       "      <td>Y</td>\n",
       "      <td>427500.0</td>\n",
       "      <td>Working</td>\n",
       "      <td>Higher education</td>\n",
       "      <td>Civil marriage</td>\n",
       "      <td>Rented apartment</td>\n",
       "      <td>32.0</td>\n",
       "      <td>4542.0</td>\n",
       "      <td>13.0</td>\n",
       "      <td>0</td>\n",
       "    </tr>\n",
       "    <tr>\n",
       "      <th>14</th>\n",
       "      <td>5008804</td>\n",
       "      <td>Y</td>\n",
       "      <td>Y</td>\n",
       "      <td>427500.0</td>\n",
       "      <td>Working</td>\n",
       "      <td>Higher education</td>\n",
       "      <td>Civil marriage</td>\n",
       "      <td>Rented apartment</td>\n",
       "      <td>32.0</td>\n",
       "      <td>4542.0</td>\n",
       "      <td>14.0</td>\n",
       "      <td>1</td>\n",
       "    </tr>\n",
       "    <tr>\n",
       "      <th>15</th>\n",
       "      <td>5008804</td>\n",
       "      <td>Y</td>\n",
       "      <td>Y</td>\n",
       "      <td>427500.0</td>\n",
       "      <td>Working</td>\n",
       "      <td>Higher education</td>\n",
       "      <td>Civil marriage</td>\n",
       "      <td>Rented apartment</td>\n",
       "      <td>32.0</td>\n",
       "      <td>4542.0</td>\n",
       "      <td>15.0</td>\n",
       "      <td>1</td>\n",
       "    </tr>\n",
       "    <tr>\n",
       "      <th>16</th>\n",
       "      <td>5008805</td>\n",
       "      <td>Y</td>\n",
       "      <td>Y</td>\n",
       "      <td>427500.0</td>\n",
       "      <td>Working</td>\n",
       "      <td>Higher education</td>\n",
       "      <td>Civil marriage</td>\n",
       "      <td>Rented apartment</td>\n",
       "      <td>32.0</td>\n",
       "      <td>4542.0</td>\n",
       "      <td>-0.0</td>\n",
       "      <td>1</td>\n",
       "    </tr>\n",
       "    <tr>\n",
       "      <th>17</th>\n",
       "      <td>5008805</td>\n",
       "      <td>Y</td>\n",
       "      <td>Y</td>\n",
       "      <td>427500.0</td>\n",
       "      <td>Working</td>\n",
       "      <td>Higher education</td>\n",
       "      <td>Civil marriage</td>\n",
       "      <td>Rented apartment</td>\n",
       "      <td>32.0</td>\n",
       "      <td>4542.0</td>\n",
       "      <td>1.0</td>\n",
       "      <td>1</td>\n",
       "    </tr>\n",
       "    <tr>\n",
       "      <th>18</th>\n",
       "      <td>5008805</td>\n",
       "      <td>Y</td>\n",
       "      <td>Y</td>\n",
       "      <td>427500.0</td>\n",
       "      <td>Working</td>\n",
       "      <td>Higher education</td>\n",
       "      <td>Civil marriage</td>\n",
       "      <td>Rented apartment</td>\n",
       "      <td>32.0</td>\n",
       "      <td>4542.0</td>\n",
       "      <td>2.0</td>\n",
       "      <td>1</td>\n",
       "    </tr>\n",
       "    <tr>\n",
       "      <th>19</th>\n",
       "      <td>5008805</td>\n",
       "      <td>Y</td>\n",
       "      <td>Y</td>\n",
       "      <td>427500.0</td>\n",
       "      <td>Working</td>\n",
       "      <td>Higher education</td>\n",
       "      <td>Civil marriage</td>\n",
       "      <td>Rented apartment</td>\n",
       "      <td>32.0</td>\n",
       "      <td>4542.0</td>\n",
       "      <td>3.0</td>\n",
       "      <td>1</td>\n",
       "    </tr>\n",
       "  </tbody>\n",
       "</table>\n",
       "</div>"
      ],
      "text/plain": [
       "         ID FLAG_OWN_CAR FLAG_OWN_REALTY  AMT_INCOME_TOTAL NAME_INCOME_TYPE  \\\n",
       "0   5008804            Y               Y          427500.0          Working   \n",
       "1   5008804            Y               Y          427500.0          Working   \n",
       "2   5008804            Y               Y          427500.0          Working   \n",
       "3   5008804            Y               Y          427500.0          Working   \n",
       "4   5008804            Y               Y          427500.0          Working   \n",
       "5   5008804            Y               Y          427500.0          Working   \n",
       "6   5008804            Y               Y          427500.0          Working   \n",
       "7   5008804            Y               Y          427500.0          Working   \n",
       "8   5008804            Y               Y          427500.0          Working   \n",
       "9   5008804            Y               Y          427500.0          Working   \n",
       "10  5008804            Y               Y          427500.0          Working   \n",
       "11  5008804            Y               Y          427500.0          Working   \n",
       "12  5008804            Y               Y          427500.0          Working   \n",
       "13  5008804            Y               Y          427500.0          Working   \n",
       "14  5008804            Y               Y          427500.0          Working   \n",
       "15  5008804            Y               Y          427500.0          Working   \n",
       "16  5008805            Y               Y          427500.0          Working   \n",
       "17  5008805            Y               Y          427500.0          Working   \n",
       "18  5008805            Y               Y          427500.0          Working   \n",
       "19  5008805            Y               Y          427500.0          Working   \n",
       "\n",
       "   NAME_EDUCATION_TYPE NAME_FAMILY_STATUS NAME_HOUSING_TYPE  YEARS_OLD  \\\n",
       "0     Higher education     Civil marriage  Rented apartment       32.0   \n",
       "1     Higher education     Civil marriage  Rented apartment       32.0   \n",
       "2     Higher education     Civil marriage  Rented apartment       32.0   \n",
       "3     Higher education     Civil marriage  Rented apartment       32.0   \n",
       "4     Higher education     Civil marriage  Rented apartment       32.0   \n",
       "5     Higher education     Civil marriage  Rented apartment       32.0   \n",
       "6     Higher education     Civil marriage  Rented apartment       32.0   \n",
       "7     Higher education     Civil marriage  Rented apartment       32.0   \n",
       "8     Higher education     Civil marriage  Rented apartment       32.0   \n",
       "9     Higher education     Civil marriage  Rented apartment       32.0   \n",
       "10    Higher education     Civil marriage  Rented apartment       32.0   \n",
       "11    Higher education     Civil marriage  Rented apartment       32.0   \n",
       "12    Higher education     Civil marriage  Rented apartment       32.0   \n",
       "13    Higher education     Civil marriage  Rented apartment       32.0   \n",
       "14    Higher education     Civil marriage  Rented apartment       32.0   \n",
       "15    Higher education     Civil marriage  Rented apartment       32.0   \n",
       "16    Higher education     Civil marriage  Rented apartment       32.0   \n",
       "17    Higher education     Civil marriage  Rented apartment       32.0   \n",
       "18    Higher education     Civil marriage  Rented apartment       32.0   \n",
       "19    Higher education     Civil marriage  Rented apartment       32.0   \n",
       "\n",
       "    DAYS_EMPLOYED  MONTHS_BALANCE  STATUS  \n",
       "0          4542.0            -0.0       1  \n",
       "1          4542.0             1.0       1  \n",
       "2          4542.0             2.0       1  \n",
       "3          4542.0             3.0       1  \n",
       "4          4542.0             4.0       1  \n",
       "5          4542.0             5.0       1  \n",
       "6          4542.0             6.0       1  \n",
       "7          4542.0             7.0       1  \n",
       "8          4542.0             8.0       1  \n",
       "9          4542.0             9.0       1  \n",
       "10         4542.0            10.0       1  \n",
       "11         4542.0            11.0       1  \n",
       "12         4542.0            12.0       1  \n",
       "13         4542.0            13.0       0  \n",
       "14         4542.0            14.0       1  \n",
       "15         4542.0            15.0       1  \n",
       "16         4542.0            -0.0       1  \n",
       "17         4542.0             1.0       1  \n",
       "18         4542.0             2.0       1  \n",
       "19         4542.0             3.0       1  "
      ]
     },
     "execution_count": 81,
     "metadata": {},
     "output_type": "execute_result"
    }
   ],
   "source": [
    "comprehensive.head(20)"
   ]
  },
  {
   "cell_type": "code",
   "execution_count": 82,
   "id": "9ee4e65e",
   "metadata": {},
   "outputs": [],
   "source": [
    "#Now filter for only unique IDs to avoid confusion\n",
    "comprehensive = comprehensive.drop_duplicates(\"ID\")"
   ]
  },
  {
   "cell_type": "markdown",
   "id": "a25b5cf4",
   "metadata": {},
   "source": [
    "### Feature Selection\n",
    "We'll start off with the following combinations to analyze for clustering:\n",
    "\n",
    "1. AMT_INCOME_TOTAL and STATUS\n",
    "2. NAME_INCOME_TYPE and STATUS\n",
    "3. NAME_EDUCATION_TYPE and STATUS\n",
    "4. DAYS_EMPLOYED and STATUS\n",
    "5. MONTHS_BALANCE and STATUS\n",
    "6. FLAG_OWN_REALTY and STATUS"
   ]
  },
  {
   "cell_type": "code",
   "execution_count": null,
   "id": "edb2571e",
   "metadata": {},
   "outputs": [],
   "source": []
  },
  {
   "cell_type": "markdown",
   "id": "df66c4dd",
   "metadata": {},
   "source": [
    "#### AMT_INCOME_TOTAL and STATUS"
   ]
  },
  {
   "cell_type": "code",
   "execution_count": 83,
   "id": "5ed87141",
   "metadata": {},
   "outputs": [
    {
     "data": {
      "image/png": "[encoded data removed]",
      "text/plain": [
       "<Figure size 432x288 with 1 Axes>"
      ]
     },
     "metadata": {
      "needs_background": "light"
     },
     "output_type": "display_data"
    },
    {
     "data": {
      "text/html": [
       "<div>\n",
       "<style scoped>\n",
       "    .dataframe tbody tr th:only-of-type {\n",
       "        vertical-align: middle;\n",
       "    }\n",
       "\n",
       "    .dataframe tbody tr th {\n",
       "        vertical-align: top;\n",
       "    }\n",
       "\n",
       "    .dataframe thead th {\n",
       "        text-align: right;\n",
       "    }\n",
       "</style>\n",
       "<table border=\"1\" class=\"dataframe\">\n",
       "  <thead>\n",
       "    <tr style=\"text-align: right;\">\n",
       "      <th></th>\n",
       "      <th>AMT_INCOME_TOTAL</th>\n",
       "      <th>STATUS</th>\n",
       "    </tr>\n",
       "  </thead>\n",
       "  <tbody>\n",
       "    <tr>\n",
       "      <th>0</th>\n",
       "      <td>2.365845</td>\n",
       "      <td>0.102903</td>\n",
       "    </tr>\n",
       "    <tr>\n",
       "      <th>1</th>\n",
       "      <td>2.365845</td>\n",
       "      <td>0.102903</td>\n",
       "    </tr>\n",
       "    <tr>\n",
       "      <th>2</th>\n",
       "      <td>-0.728827</td>\n",
       "      <td>0.102903</td>\n",
       "    </tr>\n",
       "    <tr>\n",
       "      <th>3</th>\n",
       "      <td>0.818509</td>\n",
       "      <td>0.102903</td>\n",
       "    </tr>\n",
       "    <tr>\n",
       "      <th>4</th>\n",
       "      <td>0.818509</td>\n",
       "      <td>0.102903</td>\n",
       "    </tr>\n",
       "  </tbody>\n",
       "</table>\n",
       "</div>"
      ],
      "text/plain": [
       "   AMT_INCOME_TOTAL    STATUS\n",
       "0          2.365845  0.102903\n",
       "1          2.365845  0.102903\n",
       "2         -0.728827  0.102903\n",
       "3          0.818509  0.102903\n",
       "4          0.818509  0.102903"
      ]
     },
     "execution_count": 83,
     "metadata": {},
     "output_type": "execute_result"
    }
   ],
   "source": [
    "import random as rd\n",
    "import matplotlib.pyplot as plt\n",
    "from sklearn.preprocessing import StandardScaler, MinMaxScaler\n",
    "# AMT_INCOME_TOTAL and STATUS -> My initial guess would be little to no real value of information gained from AMT_INCOME_TOTAL\n",
    "comprehensive = comprehensive.drop_duplicates(\"ID\")\n",
    "#Load and plot data to visually understand what data looks like\n",
    "df1 = comprehensive[[\"AMT_INCOME_TOTAL\", \"STATUS\"]].copy()\n",
    "plt.scatter(df1[\"AMT_INCOME_TOTAL\"], df1[\"STATUS\"], c = \"black\")\n",
    "plt.xlabel(\"Total Income\")\n",
    "plt.ylabel(\"Status\")\n",
    "plt.show()\n",
    "\n",
    "#Scale the data for K-Means and output resulting scaled values\n",
    "scaler = StandardScaler()\n",
    "scaledDF1 = scaler.fit_transform(df1)\n",
    "scaledDF1 = pd.DataFrame(scaledDF1, columns = df1.columns)\n",
    "scaledDF1.head()"
   ]
  },
  {
   "cell_type": "code",
   "execution_count": 84,
   "id": "0ddcd181",
   "metadata": {},
   "outputs": [
    {
     "data": {
      "text/plain": [
       "Text(0, 0.5, 'Inertia')"
      ]
     },
     "execution_count": 84,
     "metadata": {},
     "output_type": "execute_result"
    },
    {
     "data": {
      "image/png": "[encoded data removed]",
      "text/plain": [
       "<Figure size 432x288 with 1 Axes>"
      ]
     },
     "metadata": {
      "needs_background": "light"
     },
     "output_type": "display_data"
    }
   ],
   "source": [
    "# Source: https://www.analyticsvidhya.com/blog/2019/08/comprehensive-guide-k-means-clustering/\n",
    "# In order to determine which number of clusters we should use, we'll run though a series of tests\n",
    "# Takes some time to run (30-45 seconds)\n",
    "from sklearn.cluster import KMeans\n",
    "\n",
    "output = []\n",
    "for cluster in range(1, 10):\n",
    "    kmeans = KMeans(n_clusters = cluster, init=\"k-means++\")\n",
    "    kmeans.fit(scaledDF1)\n",
    "    output.append(kmeans.inertia_)\n",
    "    \n",
    "#Plot the data to visually determine number of clusters\n",
    "graph = pd.DataFrame({\"Cluster\":range(1,10), \"Output\":output})\n",
    "plt.plot(graph[\"Cluster\"], graph[\"Output\"], marker=\"o\")\n",
    "plt.xlabel(\"Number of clusters\")\n",
    "plt.ylabel(\"Inertia\")"
   ]
  },
  {
   "cell_type": "code",
   "execution_count": 85,
   "id": "1daefa4c",
   "metadata": {},
   "outputs": [],
   "source": [
    "#Looks like 3 clusters would work well, so now we'll create the model using 3 clusters (Elbow Method)\n",
    "kmeans = KMeans(n_clusters = 3, init=\"k-means++\")\n",
    "kmeans.fit(scaledDF1)\n",
    "scaledDF1[\"cluster\"] = kmeans.predict(scaledDF1)"
   ]
  },
  {
   "cell_type": "code",
   "execution_count": 86,
   "id": "23cfdc8d",
   "metadata": {},
   "outputs": [
    {
     "data": {
      "text/plain": [
       "<matplotlib.collections.PathCollection at 0x7fe6ac6b75b0>"
      ]
     },
     "execution_count": 86,
     "metadata": {},
     "output_type": "execute_result"
    },
    {
     "data": {
      "image/png": "[encoded data removed]",
      "text/plain": [
       "<Figure size 432x288 with 1 Axes>"
      ]
     },
     "metadata": {
      "needs_background": "light"
     },
     "output_type": "display_data"
    }
   ],
   "source": [
    "#Visualize the data\n",
    "centers = kmeans.cluster_centers_\n",
    "cen_x = [i[0] for i in centers]\n",
    "cen_y = [i[1] for i in centers]\n",
    "\n",
    "scaledDF1[\"cen_x\"] = scaledDF1.cluster.map({0:cen_x[0], 1:cen_x[1], 2:cen_x[2]})\n",
    "scaledDF1[\"cen_y\"] = scaledDF1.cluster.map({0:cen_y[0], 1:cen_y[1], 2:cen_y[2]})\n",
    "\n",
    "colors = ['#DF2020', '#81DF20', '#2095DF']\n",
    "scaledDF1[\"c\"] = scaledDF1.cluster.map({0:colors[0], 1:colors[1], 2:colors[2]})\n",
    "\n",
    "plt.xlabel(\"Total Income\")\n",
    "plt.ylabel(\"Approval\")\n",
    "plt.scatter(scaledDF1.AMT_INCOME_TOTAL, scaledDF1.STATUS, c = scaledDF1.c, alpha = 0.6, s = 10)"
   ]
  },
  {
   "cell_type": "code",
   "execution_count": 87,
   "id": "b5f02a64",
   "metadata": {},
   "outputs": [
    {
     "data": {
      "text/html": [
       "<div>\n",
       "<style scoped>\n",
       "    .dataframe tbody tr th:only-of-type {\n",
       "        vertical-align: middle;\n",
       "    }\n",
       "\n",
       "    .dataframe tbody tr th {\n",
       "        vertical-align: top;\n",
       "    }\n",
       "\n",
       "    .dataframe thead th {\n",
       "        text-align: right;\n",
       "    }\n",
       "</style>\n",
       "<table border=\"1\" class=\"dataframe\">\n",
       "  <thead>\n",
       "    <tr style=\"text-align: right;\">\n",
       "      <th></th>\n",
       "      <th>AMT_INCOME_TOTAL</th>\n",
       "      <th>STATUS</th>\n",
       "      <th>cluster</th>\n",
       "      <th>cen_x</th>\n",
       "      <th>cen_y</th>\n",
       "      <th>c</th>\n",
       "    </tr>\n",
       "  </thead>\n",
       "  <tbody>\n",
       "    <tr>\n",
       "      <th>0</th>\n",
       "      <td>2.365845</td>\n",
       "      <td>0.102903</td>\n",
       "      <td>2</td>\n",
       "      <td>1.465512</td>\n",
       "      <td>0.102903</td>\n",
       "      <td>#2095DF</td>\n",
       "    </tr>\n",
       "    <tr>\n",
       "      <th>1</th>\n",
       "      <td>2.365845</td>\n",
       "      <td>0.102903</td>\n",
       "      <td>2</td>\n",
       "      <td>1.465512</td>\n",
       "      <td>0.102903</td>\n",
       "      <td>#2095DF</td>\n",
       "    </tr>\n",
       "    <tr>\n",
       "      <th>2</th>\n",
       "      <td>-0.728827</td>\n",
       "      <td>0.102903</td>\n",
       "      <td>0</td>\n",
       "      <td>-0.381260</td>\n",
       "      <td>0.102903</td>\n",
       "      <td>#DF2020</td>\n",
       "    </tr>\n",
       "    <tr>\n",
       "      <th>3</th>\n",
       "      <td>0.818509</td>\n",
       "      <td>0.102903</td>\n",
       "      <td>2</td>\n",
       "      <td>1.465512</td>\n",
       "      <td>0.102903</td>\n",
       "      <td>#2095DF</td>\n",
       "    </tr>\n",
       "    <tr>\n",
       "      <th>4</th>\n",
       "      <td>0.818509</td>\n",
       "      <td>0.102903</td>\n",
       "      <td>2</td>\n",
       "      <td>1.465512</td>\n",
       "      <td>0.102903</td>\n",
       "      <td>#2095DF</td>\n",
       "    </tr>\n",
       "  </tbody>\n",
       "</table>\n",
       "</div>"
      ],
      "text/plain": [
       "   AMT_INCOME_TOTAL    STATUS  cluster     cen_x     cen_y        c\n",
       "0          2.365845  0.102903        2  1.465512  0.102903  #2095DF\n",
       "1          2.365845  0.102903        2  1.465512  0.102903  #2095DF\n",
       "2         -0.728827  0.102903        0 -0.381260  0.102903  #DF2020\n",
       "3          0.818509  0.102903        2  1.465512  0.102903  #2095DF\n",
       "4          0.818509  0.102903        2  1.465512  0.102903  #2095DF"
      ]
     },
     "execution_count": 87,
     "metadata": {},
     "output_type": "execute_result"
    }
   ],
   "source": [
    "scaledDF1.head()"
   ]
  },
  {
   "cell_type": "markdown",
   "id": "3f0eb0f2",
   "metadata": {},
   "source": [
    "##### Observation\n",
    "Based on this clustering, it is clear that higher income individuals tend to be less risky for lending as they pay their debts on time. We can use this idea to reduce how strict we are with higher income individuals during another wave of data processing\n",
    "\n",
    "It is also important to note why StandardScaler was used here as opposed to MinMaxScaler. StandardScaler was used as way to keep the importance of outliers. There was a concern that if MinMaxScaler was used, then it would have caused issues with getting a fuller picture of the data"
   ]
  },
  {
   "cell_type": "markdown",
   "id": "54f1ede6",
   "metadata": {},
   "source": [
    "#### NAME_INCOME_TYPE and STATUS"
   ]
  },
  {
   "cell_type": "code",
   "execution_count": 88,
   "id": "709c9b90",
   "metadata": {},
   "outputs": [
    {
     "data": {
      "image/png": "[encoded data removed]",
      "text/plain": [
       "<Figure size 432x288 with 1 Axes>"
      ]
     },
     "metadata": {
      "needs_background": "light"
     },
     "output_type": "display_data"
    }
   ],
   "source": [
    "# NAME_INCOME_TYPE and STATUS -> My initial guess would be no real value of information gained from NAME_INCOME_TYPE\n",
    "\n",
    "#Load and plot data to visually understand what data looks like\n",
    "df2 = comprehensive[[\"NAME_INCOME_TYPE\", \"STATUS\"]].copy()\n",
    "plt.scatter(df2[\"NAME_INCOME_TYPE\"], df2[\"STATUS\"], c = \"black\")\n",
    "plt.xlabel(\"Total Income\")\n",
    "plt.ylabel(\"Status\")\n",
    "plt.show()"
   ]
  },
  {
   "cell_type": "markdown",
   "id": "03feae5c",
   "metadata": {},
   "source": [
    "Due to its categorical nature, NAME_INCOME_TYPE has only discrete values. Based on this plot, there is no way of differentiating Income Type and Status, thus k-means clustering will not be helpful here"
   ]
  },
  {
   "cell_type": "markdown",
   "id": "bf9a042d",
   "metadata": {},
   "source": [
    "#### NAME_EDUCATION_TYPE and STATUS"
   ]
  },
  {
   "cell_type": "code",
   "execution_count": 89,
   "id": "8cf8627b",
   "metadata": {},
   "outputs": [
    {
     "data": {
      "image/png": "[encoded data removed]",
      "text/plain": [
       "<Figure size 432x288 with 1 Axes>"
      ]
     },
     "metadata": {
      "needs_background": "light"
     },
     "output_type": "display_data"
    }
   ],
   "source": [
    "# NAME_EDUCATION_TYPE and STATUS -> My initial guess would be no real value of information gained from NAME_EDUCATION_TYPE\n",
    "\n",
    "#Load and plot data to visually understand what data looks like\n",
    "df3 = comprehensive[[\"NAME_EDUCATION_TYPE\", \"STATUS\"]].copy()\n",
    "plt.scatter(df3[\"NAME_EDUCATION_TYPE\"], df3[\"STATUS\"], c = \"black\")\n",
    "plt.xlabel(\"Education Type\")\n",
    "plt.ylabel(\"Status\")\n",
    "plt.show()"
   ]
  },
  {
   "cell_type": "markdown",
   "id": "57f9eaa6",
   "metadata": {},
   "source": [
    "Due to its categorical nature, NAME_EDUCATION_TYPE has only discrete values. Based on this plot, there is no way of differentiating Education Type and Status, thus k-means clustering will not be helpful here"
   ]
  },
  {
   "cell_type": "markdown",
   "id": "b38332ed",
   "metadata": {},
   "source": [
    "#### DAYS_EMPLOYED and STATUS"
   ]
  },
  {
   "cell_type": "code",
   "execution_count": 90,
   "id": "86be1cac",
   "metadata": {},
   "outputs": [
    {
     "data": {
      "image/png": "[encoded data removed]",
      "text/plain": [
       "<Figure size 432x288 with 1 Axes>"
      ]
     },
     "metadata": {
      "needs_background": "light"
     },
     "output_type": "display_data"
    }
   ],
   "source": [
    "# DAYS_EMPLOYED and STATUS\n",
    "\n",
    "#Load and plot data to visually understand what data looks like\n",
    "df4 = comprehensive[[\"DAYS_EMPLOYED\", \"STATUS\"]].copy()\n",
    "plt.scatter(df4[\"DAYS_EMPLOYED\"], df4[\"STATUS\"], c = \"black\")\n",
    "plt.xlabel(\"Days Employed\")\n",
    "plt.ylabel(\"Status\")\n",
    "plt.show()"
   ]
  },
  {
   "cell_type": "code",
   "execution_count": 91,
   "id": "e78c929b",
   "metadata": {},
   "outputs": [
    {
     "data": {
      "text/html": [
       "<div>\n",
       "<style scoped>\n",
       "    .dataframe tbody tr th:only-of-type {\n",
       "        vertical-align: middle;\n",
       "    }\n",
       "\n",
       "    .dataframe tbody tr th {\n",
       "        vertical-align: top;\n",
       "    }\n",
       "\n",
       "    .dataframe thead th {\n",
       "        text-align: right;\n",
       "    }\n",
       "</style>\n",
       "<table border=\"1\" class=\"dataframe\">\n",
       "  <thead>\n",
       "    <tr style=\"text-align: right;\">\n",
       "      <th></th>\n",
       "      <th>DAYS_EMPLOYED</th>\n",
       "      <th>STATUS</th>\n",
       "    </tr>\n",
       "  </thead>\n",
       "  <tbody>\n",
       "    <tr>\n",
       "      <th>0</th>\n",
       "      <td>0.463532</td>\n",
       "      <td>0.102903</td>\n",
       "    </tr>\n",
       "    <tr>\n",
       "      <th>1</th>\n",
       "      <td>0.463532</td>\n",
       "      <td>0.102903</td>\n",
       "    </tr>\n",
       "    <tr>\n",
       "      <th>2</th>\n",
       "      <td>0.438774</td>\n",
       "      <td>0.102903</td>\n",
       "    </tr>\n",
       "    <tr>\n",
       "      <th>3</th>\n",
       "      <td>0.452700</td>\n",
       "      <td>0.102903</td>\n",
       "    </tr>\n",
       "    <tr>\n",
       "      <th>4</th>\n",
       "      <td>0.452700</td>\n",
       "      <td>0.102903</td>\n",
       "    </tr>\n",
       "  </tbody>\n",
       "</table>\n",
       "</div>"
      ],
      "text/plain": [
       "   DAYS_EMPLOYED    STATUS\n",
       "0       0.463532  0.102903\n",
       "1       0.463532  0.102903\n",
       "2       0.438774  0.102903\n",
       "3       0.452700  0.102903\n",
       "4       0.452700  0.102903"
      ]
     },
     "execution_count": 91,
     "metadata": {},
     "output_type": "execute_result"
    }
   ],
   "source": [
    "# Looks like there might be some data here that we could use (we'll definitely need to scale data)\n",
    "# Scale the data for K-Means and output resulting scaled values\n",
    "scaler = StandardScaler()\n",
    "scaledDF4 = scaler.fit_transform(df4)\n",
    "scaledDF4 = pd.DataFrame(scaledDF4, columns = df4.columns)\n",
    "scaledDF4.head()"
   ]
  },
  {
   "cell_type": "code",
   "execution_count": 92,
   "id": "67ed98f5",
   "metadata": {},
   "outputs": [
    {
     "data": {
      "text/plain": [
       "Text(0, 0.5, 'Inertia')"
      ]
     },
     "execution_count": 92,
     "metadata": {},
     "output_type": "execute_result"
    },
    {
     "data": {
      "image/png": "[encoded data removed]",
      "text/plain": [
       "<Figure size 432x288 with 1 Axes>"
      ]
     },
     "metadata": {
      "needs_background": "light"
     },
     "output_type": "display_data"
    }
   ],
   "source": [
    "# Source: https://www.analyticsvidhya.com/blog/2019/08/comprehensive-guide-k-means-clustering/\n",
    "# In order to determine which number of clusters we should use, we'll run though a series of tests\n",
    "# Takes some time to run (10-15 seconds)\n",
    "from sklearn.cluster import KMeans\n",
    "\n",
    "output = []\n",
    "for cluster in range(1, 10):\n",
    "    kmeans = KMeans(n_clusters = cluster, init=\"k-means++\")\n",
    "    kmeans.fit(scaledDF4)\n",
    "    output.append(kmeans.inertia_)\n",
    "    \n",
    "#Plot the data to visually determine number of clusters\n",
    "graph = pd.DataFrame({\"Cluster\":range(1,10), \"Output\":output})\n",
    "plt.plot(graph[\"Cluster\"], graph[\"Output\"], marker=\"o\")\n",
    "plt.xlabel(\"Number of clusters\")\n",
    "plt.ylabel(\"Inertia\")"
   ]
  },
  {
   "cell_type": "code",
   "execution_count": 93,
   "id": "f090ce25",
   "metadata": {},
   "outputs": [],
   "source": [
    "# Interesting behavior with number of clusters, going to use 3 clusters from Elbow Method\n",
    "kmeans = KMeans(n_clusters = 3, init=\"k-means++\")\n",
    "kmeans.fit(scaledDF4)\n",
    "scaledDF4[\"cluster\"] = kmeans.predict(scaledDF4)"
   ]
  },
  {
   "cell_type": "code",
   "execution_count": 94,
   "id": "5b5ab625",
   "metadata": {},
   "outputs": [
    {
     "data": {
      "text/plain": [
       "<matplotlib.collections.PathCollection at 0x7fe6ac454f10>"
      ]
     },
     "execution_count": 94,
     "metadata": {},
     "output_type": "execute_result"
    },
    {
     "data": {
      "image/png": "[encoded data removed]",
      "text/plain": [
       "<Figure size 432x288 with 1 Axes>"
      ]
     },
     "metadata": {
      "needs_background": "light"
     },
     "output_type": "display_data"
    }
   ],
   "source": [
    "#Visualize the data\n",
    "centers = kmeans.cluster_centers_\n",
    "cen_x = [i[0] for i in centers]\n",
    "cen_y = [i[1] for i in centers]\n",
    "\n",
    "scaledDF4[\"cen_x\"] = scaledDF4.cluster.map({0:cen_x[0], 1:cen_x[1], 2:cen_x[2]})\n",
    "scaledDF4[\"cen_y\"] = scaledDF4.cluster.map({0:cen_y[0], 1:cen_y[1], 2:cen_y[2]})\n",
    "\n",
    "colors = ['#DF2020', '#81DF20', '#2095DF']\n",
    "scaledDF4[\"c\"] = scaledDF4.cluster.map({0:colors[0], 1:colors[1], 2:colors[2]})\n",
    "\n",
    "plt.xlabel(\"Days Employed\")\n",
    "plt.ylabel(\"Approval\")\n",
    "plt.scatter(scaledDF4.DAYS_EMPLOYED, scaledDF4.STATUS, c = scaledDF4.c, alpha = 0.6, s = 10)"
   ]
  },
  {
   "cell_type": "markdown",
   "id": "d1b7558d",
   "metadata": {},
   "source": [
    "##### Observations\n",
    "\n",
    "Ignoring the bizarre scaling for the \"Approval\" axis (Higher still means less risky/ more likely to be approved), we can observe interesting behavior as we see a similar clustering pattern to the total income cluster (df1)"
   ]
  },
  {
   "cell_type": "markdown",
   "id": "9e980725",
   "metadata": {},
   "source": [
    "#### MONTHS_BALANCE AND STATUS"
   ]
  },
  {
   "cell_type": "code",
   "execution_count": 95,
   "id": "1adfd84e",
   "metadata": {},
   "outputs": [
    {
     "data": {
      "image/png": "[encoded data removed]",
      "text/plain": [
       "<Figure size 432x288 with 1 Axes>"
      ]
     },
     "metadata": {
      "needs_background": "light"
     },
     "output_type": "display_data"
    }
   ],
   "source": [
    "# MONTHS_BALANCE and STATUS\n",
    "\n",
    "#Load and plot data to visually understand what data looks like\n",
    "df5 = comprehensive[[\"MONTHS_BALANCE\", \"STATUS\"]].copy()\n",
    "plt.scatter(df5[\"MONTHS_BALANCE\"], df5[\"STATUS\"], c = \"black\")\n",
    "plt.xlabel(\"Consecutive Months of Having a Balance\")\n",
    "plt.ylabel(\"Status\")\n",
    "plt.show()"
   ]
  },
  {
   "cell_type": "code",
   "execution_count": 96,
   "id": "9abcdf8f",
   "metadata": {},
   "outputs": [
    {
     "data": {
      "text/html": [
       "<div>\n",
       "<style scoped>\n",
       "    .dataframe tbody tr th:only-of-type {\n",
       "        vertical-align: middle;\n",
       "    }\n",
       "\n",
       "    .dataframe tbody tr th {\n",
       "        vertical-align: top;\n",
       "    }\n",
       "\n",
       "    .dataframe thead th {\n",
       "        text-align: right;\n",
       "    }\n",
       "</style>\n",
       "<table border=\"1\" class=\"dataframe\">\n",
       "  <thead>\n",
       "    <tr style=\"text-align: right;\">\n",
       "      <th></th>\n",
       "      <th>MONTHS_BALANCE</th>\n",
       "      <th>STATUS</th>\n",
       "    </tr>\n",
       "  </thead>\n",
       "  <tbody>\n",
       "    <tr>\n",
       "      <th>0</th>\n",
       "      <td>-0.514889</td>\n",
       "      <td>0.102903</td>\n",
       "    </tr>\n",
       "    <tr>\n",
       "      <th>1</th>\n",
       "      <td>-0.514889</td>\n",
       "      <td>0.102903</td>\n",
       "    </tr>\n",
       "    <tr>\n",
       "      <th>2</th>\n",
       "      <td>-0.514889</td>\n",
       "      <td>0.102903</td>\n",
       "    </tr>\n",
       "    <tr>\n",
       "      <th>3</th>\n",
       "      <td>-0.514889</td>\n",
       "      <td>0.102903</td>\n",
       "    </tr>\n",
       "    <tr>\n",
       "      <th>4</th>\n",
       "      <td>1.427487</td>\n",
       "      <td>0.102903</td>\n",
       "    </tr>\n",
       "  </tbody>\n",
       "</table>\n",
       "</div>"
      ],
      "text/plain": [
       "   MONTHS_BALANCE    STATUS\n",
       "0       -0.514889  0.102903\n",
       "1       -0.514889  0.102903\n",
       "2       -0.514889  0.102903\n",
       "3       -0.514889  0.102903\n",
       "4        1.427487  0.102903"
      ]
     },
     "execution_count": 96,
     "metadata": {},
     "output_type": "execute_result"
    }
   ],
   "source": [
    "# Looks like there might be some data here that we could use (we'll definitely need to scale data)\n",
    "# Scale the data for K-Means and output resulting scaled values\n",
    "scaler = StandardScaler()\n",
    "scaledDF5 = scaler.fit_transform(df5)\n",
    "scaledDF5 = pd.DataFrame(scaledDF5, columns = df5.columns)\n",
    "scaledDF5.head()"
   ]
  },
  {
   "cell_type": "code",
   "execution_count": 97,
   "id": "a9dbda7a",
   "metadata": {},
   "outputs": [
    {
     "data": {
      "text/plain": [
       "Text(0, 0.5, 'Inertia')"
      ]
     },
     "execution_count": 97,
     "metadata": {},
     "output_type": "execute_result"
    },
    {
     "data": {
      "image/png": "[encoded data removed]",
      "text/plain": [
       "<Figure size 432x288 with 1 Axes>"
      ]
     },
     "metadata": {
      "needs_background": "light"
     },
     "output_type": "display_data"
    }
   ],
   "source": [
    "# Source: https://www.analyticsvidhya.com/blog/2019/08/comprehensive-guide-k-means-clustering/\n",
    "# In order to determine which number of clusters we should use, we'll run though a series of tests\n",
    "# Takes some time to run (10-15 seconds)\n",
    "\n",
    "output = []\n",
    "for cluster in range(1, 10):\n",
    "    kmeans = KMeans(n_clusters = cluster, init=\"k-means++\")\n",
    "    kmeans.fit(scaledDF5)\n",
    "    output.append(kmeans.inertia_)\n",
    "    \n",
    "#Plot the data to visually determine number of clusters\n",
    "graph = pd.DataFrame({\"Cluster\":range(1,10), \"Output\":output})\n",
    "plt.plot(graph[\"Cluster\"], graph[\"Output\"], marker=\"o\")\n",
    "plt.xlabel(\"Number of clusters\")\n",
    "plt.ylabel(\"Inertia\")"
   ]
  },
  {
   "cell_type": "code",
   "execution_count": 98,
   "id": "2cc2f93c",
   "metadata": {},
   "outputs": [],
   "source": [
    "#Looks like 3 clusters would work well, so now we'll create the model using 3 clusters (Elbow Method)\n",
    "kmeans = KMeans(n_clusters = 3, init=\"k-means++\")\n",
    "kmeans.fit(scaledDF5)\n",
    "scaledDF5[\"cluster\"] = kmeans.predict(scaledDF5)"
   ]
  },
  {
   "cell_type": "code",
   "execution_count": 99,
   "id": "f2e1a9b9",
   "metadata": {},
   "outputs": [
    {
     "data": {
      "text/plain": [
       "<matplotlib.collections.PathCollection at 0x7fe6ac541040>"
      ]
     },
     "execution_count": 99,
     "metadata": {},
     "output_type": "execute_result"
    },
    {
     "data": {
      "image/png": "[encoded data removed]",
      "text/plain": [
       "<Figure size 432x288 with 1 Axes>"
      ]
     },
     "metadata": {
      "needs_background": "light"
     },
     "output_type": "display_data"
    }
   ],
   "source": [
    "#Visualize the data\n",
    "centers = kmeans.cluster_centers_\n",
    "cen_x = [i[0] for i in centers]\n",
    "cen_y = [i[1] for i in centers]\n",
    "\n",
    "scaledDF5[\"cen_x\"] = scaledDF5.cluster.map({0:cen_x[0], 1:cen_x[1], 2:cen_x[2]})\n",
    "scaledDF5[\"cen_y\"] = scaledDF5.cluster.map({0:cen_y[0], 1:cen_y[1], 2:cen_y[2]})\n",
    "\n",
    "colors = ['#DF2020', '#81DF20', '#2095DF']\n",
    "scaledDF5[\"c\"] = scaledDF5.cluster.map({0:colors[0], 1:colors[1], 2:colors[2]})\n",
    "\n",
    "plt.xlabel(\"Months of Consecutive Balance\")\n",
    "plt.ylabel(\"Approval\")\n",
    "plt.scatter(scaledDF5.MONTHS_BALANCE, scaledDF5.STATUS, c = scaledDF5.c, alpha = 0.6, s = 10)"
   ]
  },
  {
   "cell_type": "markdown",
   "id": "b4b0c431",
   "metadata": {},
   "source": [
    "##### Observations\n",
    "\n",
    "Ignoring the bizarre scaling for the \"Approval\" axis (Higher still means less risky/ more likely to be approved), we can observe interesting behavior as we see a similar clustering pattern to both the total income cluster (df1) and days employed cluster (df4)."
   ]
  },
  {
   "cell_type": "markdown",
   "id": "ca212b7b",
   "metadata": {},
   "source": [
    "### Next Step\n",
    "Our next step will likely include all three continuous columns (df1, df4, and df5) into a clustering to see if we can find anything that aligns with typical credit lending (we'll likely have to follow a more mortgage-like approach given the limitations of our current dataset)"
   ]
  },
  {
   "cell_type": "code",
   "execution_count": 103,
   "id": "2c0d9fda",
   "metadata": {},
   "outputs": [
    {
     "data": {
      "text/html": [
       "<div>\n",
       "<style scoped>\n",
       "    .dataframe tbody tr th:only-of-type {\n",
       "        vertical-align: middle;\n",
       "    }\n",
       "\n",
       "    .dataframe tbody tr th {\n",
       "        vertical-align: top;\n",
       "    }\n",
       "\n",
       "    .dataframe thead th {\n",
       "        text-align: right;\n",
       "    }\n",
       "</style>\n",
       "<table border=\"1\" class=\"dataframe\">\n",
       "  <thead>\n",
       "    <tr style=\"text-align: right;\">\n",
       "      <th></th>\n",
       "      <th>AMT_INCOME_TOTAL</th>\n",
       "      <th>DAYS_EMPLOYED</th>\n",
       "      <th>MONTHS_BALANCE</th>\n",
       "      <th>STATUS</th>\n",
       "    </tr>\n",
       "  </thead>\n",
       "  <tbody>\n",
       "    <tr>\n",
       "      <th>0</th>\n",
       "      <td>2.365845</td>\n",
       "      <td>0.463532</td>\n",
       "      <td>-0.514889</td>\n",
       "      <td>0.102903</td>\n",
       "    </tr>\n",
       "    <tr>\n",
       "      <th>1</th>\n",
       "      <td>2.365845</td>\n",
       "      <td>0.463532</td>\n",
       "      <td>-0.514889</td>\n",
       "      <td>0.102903</td>\n",
       "    </tr>\n",
       "    <tr>\n",
       "      <th>2</th>\n",
       "      <td>-0.728827</td>\n",
       "      <td>0.438774</td>\n",
       "      <td>-0.514889</td>\n",
       "      <td>0.102903</td>\n",
       "    </tr>\n",
       "    <tr>\n",
       "      <th>3</th>\n",
       "      <td>0.818509</td>\n",
       "      <td>0.452700</td>\n",
       "      <td>-0.514889</td>\n",
       "      <td>0.102903</td>\n",
       "    </tr>\n",
       "    <tr>\n",
       "      <th>4</th>\n",
       "      <td>0.818509</td>\n",
       "      <td>0.452700</td>\n",
       "      <td>1.427487</td>\n",
       "      <td>0.102903</td>\n",
       "    </tr>\n",
       "  </tbody>\n",
       "</table>\n",
       "</div>"
      ],
      "text/plain": [
       "   AMT_INCOME_TOTAL  DAYS_EMPLOYED  MONTHS_BALANCE    STATUS\n",
       "0          2.365845       0.463532       -0.514889  0.102903\n",
       "1          2.365845       0.463532       -0.514889  0.102903\n",
       "2         -0.728827       0.438774       -0.514889  0.102903\n",
       "3          0.818509       0.452700       -0.514889  0.102903\n",
       "4          0.818509       0.452700        1.427487  0.102903"
      ]
     },
     "execution_count": 103,
     "metadata": {},
     "output_type": "execute_result"
    }
   ],
   "source": [
    "# AMT_INCOME_TOTAL, DAYS_EMPLOYED, MONTHS_BALANCE and STATUS\n",
    "\n",
    "#Load and plot data to visually understand what data looks like\n",
    "df6 = comprehensive[[\"AMT_INCOME_TOTAL\", \"DAYS_EMPLOYED\", \"MONTHS_BALANCE\", \"STATUS\"]].copy()\n",
    "\n",
    "# Scale the data for K-Means and output resulting scaled values\n",
    "scaler = StandardScaler()\n",
    "scaledDF6 = scaler.fit_transform(df6)\n",
    "scaledDF6 = pd.DataFrame(scaledDF6, columns = df6.columns)\n",
    "scaledDF6.head()"
   ]
  },
  {
   "cell_type": "code",
   "execution_count": 104,
   "id": "3a7d4c96",
   "metadata": {},
   "outputs": [
    {
     "data": {
      "text/plain": [
       "Text(0, 0.5, 'Inertia')"
      ]
     },
     "execution_count": 104,
     "metadata": {},
     "output_type": "execute_result"
    },
    {
     "data": {
      "image/png": "[encoded data removed]",
      "text/plain": [
       "<Figure size 432x288 with 1 Axes>"
      ]
     },
     "metadata": {
      "needs_background": "light"
     },
     "output_type": "display_data"
    }
   ],
   "source": [
    "# In order to determine which number of clusters we should use, we'll run though a series of tests\n",
    "# Takes some time to run (10-15 seconds)\n",
    "\n",
    "output = []\n",
    "for cluster in range(1, 10):\n",
    "    kmeans = KMeans(n_clusters = cluster, init=\"k-means++\")\n",
    "    kmeans.fit(scaledDF6)\n",
    "    output.append(kmeans.inertia_)\n",
    "    \n",
    "#Plot the data to visually determine number of clusters\n",
    "graph = pd.DataFrame({\"Cluster\":range(1,10), \"Output\":output})\n",
    "plt.plot(graph[\"Cluster\"], graph[\"Output\"], marker=\"o\")\n",
    "plt.xlabel(\"Number of clusters\")\n",
    "plt.ylabel(\"Inertia\")"
   ]
  },
  {
   "cell_type": "code",
   "execution_count": 105,
   "id": "fd665f00",
   "metadata": {},
   "outputs": [],
   "source": [
    "#Looks like 5 clusters would work well, so now we'll create the model using 5 clusters (Elbow Method)\n",
    "kmeans = KMeans(n_clusters = 5, init=\"k-means++\")\n",
    "kmeans.fit(scaledDF6)\n",
    "scaledDF6[\"cluster\"] = kmeans.predict(scaledDF6)"
   ]
  },
  {
   "cell_type": "code",
   "execution_count": 106,
   "id": "364e0124",
   "metadata": {},
   "outputs": [
    {
     "data": {
      "text/html": [
       "<div>\n",
       "<style scoped>\n",
       "    .dataframe tbody tr th:only-of-type {\n",
       "        vertical-align: middle;\n",
       "    }\n",
       "\n",
       "    .dataframe tbody tr th {\n",
       "        vertical-align: top;\n",
       "    }\n",
       "\n",
       "    .dataframe thead th {\n",
       "        text-align: right;\n",
       "    }\n",
       "</style>\n",
       "<table border=\"1\" class=\"dataframe\">\n",
       "  <thead>\n",
       "    <tr style=\"text-align: right;\">\n",
       "      <th></th>\n",
       "      <th>AMT_INCOME_TOTAL</th>\n",
       "      <th>DAYS_EMPLOYED</th>\n",
       "      <th>MONTHS_BALANCE</th>\n",
       "      <th>STATUS</th>\n",
       "      <th>cluster</th>\n",
       "    </tr>\n",
       "  </thead>\n",
       "  <tbody>\n",
       "    <tr>\n",
       "      <th>0</th>\n",
       "      <td>2.365845</td>\n",
       "      <td>0.463532</td>\n",
       "      <td>-0.514889</td>\n",
       "      <td>0.102903</td>\n",
       "      <td>0</td>\n",
       "    </tr>\n",
       "    <tr>\n",
       "      <th>1</th>\n",
       "      <td>2.365845</td>\n",
       "      <td>0.463532</td>\n",
       "      <td>-0.514889</td>\n",
       "      <td>0.102903</td>\n",
       "      <td>0</td>\n",
       "    </tr>\n",
       "    <tr>\n",
       "      <th>2</th>\n",
       "      <td>-0.728827</td>\n",
       "      <td>0.438774</td>\n",
       "      <td>-0.514889</td>\n",
       "      <td>0.102903</td>\n",
       "      <td>1</td>\n",
       "    </tr>\n",
       "    <tr>\n",
       "      <th>3</th>\n",
       "      <td>0.818509</td>\n",
       "      <td>0.452700</td>\n",
       "      <td>-0.514889</td>\n",
       "      <td>0.102903</td>\n",
       "      <td>0</td>\n",
       "    </tr>\n",
       "    <tr>\n",
       "      <th>4</th>\n",
       "      <td>0.818509</td>\n",
       "      <td>0.452700</td>\n",
       "      <td>1.427487</td>\n",
       "      <td>0.102903</td>\n",
       "      <td>4</td>\n",
       "    </tr>\n",
       "  </tbody>\n",
       "</table>\n",
       "</div>"
      ],
      "text/plain": [
       "   AMT_INCOME_TOTAL  DAYS_EMPLOYED  MONTHS_BALANCE    STATUS  cluster\n",
       "0          2.365845       0.463532       -0.514889  0.102903        0\n",
       "1          2.365845       0.463532       -0.514889  0.102903        0\n",
       "2         -0.728827       0.438774       -0.514889  0.102903        1\n",
       "3          0.818509       0.452700       -0.514889  0.102903        0\n",
       "4          0.818509       0.452700        1.427487  0.102903        4"
      ]
     },
     "execution_count": 106,
     "metadata": {},
     "output_type": "execute_result"
    }
   ],
   "source": [
    "scaledDF6.head()"
   ]
  },
  {
   "cell_type": "code",
   "execution_count": 107,
   "id": "40e8f3c0",
   "metadata": {},
   "outputs": [
    {
     "data": {
      "text/plain": [
       "<matplotlib.collections.PathCollection at 0x7fe6ac3c8760>"
      ]
     },
     "execution_count": 107,
     "metadata": {},
     "output_type": "execute_result"
    },
    {
     "data": {
      "image/png": "[encoded data removed]",
      "text/plain": [
       "<Figure size 432x288 with 1 Axes>"
      ]
     },
     "metadata": {
      "needs_background": "light"
     },
     "output_type": "display_data"
    }
   ],
   "source": [
    "#Visualize the data\n",
    "centers = kmeans.cluster_centers_\n",
    "cen_x = [i[0] for i in centers]\n",
    "cen_y = [i[1] for i in centers]\n",
    "\n",
    "scaledDF6[\"cen_x\"] = scaledDF6.cluster.map({0:cen_x[0], 1:cen_x[1], 2:cen_x[2], 3:cen_x[3], 4:cen_x[4]})\n",
    "scaledDF6[\"cen_y\"] = scaledDF6.cluster.map({0:cen_y[0], 1:cen_y[1], 2:cen_y[2], 3:cen_y[3], 4:cen_y[4]})\n",
    "\n",
    "colors = ['#DF2020', '#81DF20', '#2095DF', '#F5F500', '#7600f5']\n",
    "scaledDF6[\"c\"] = scaledDF6.cluster.map({0:colors[0], 1:colors[1], 2:colors[2], 3:colors[3], 4:colors[4]})\n",
    "\n",
    "plt.xlabel(\"Everything_Combined\")\n",
    "plt.ylabel(\"Approval\")\n",
    "plt.scatter(scaledDF6.cluster, scaledDF6.STATUS, c = scaledDF6.c, alpha = 0.6, s = 10)"
   ]
  },
  {
   "cell_type": "markdown",
   "id": "eb41dfd9",
   "metadata": {},
   "source": [
    "##### Observations\n",
    "\n",
    "Cluster 3 seems to be the highest risk applicants. A futher analysis is needed to determine the characteristics of cluster 3 individuals"
   ]
  },
  {
   "cell_type": "code",
   "execution_count": 108,
   "id": "32fcd415",
   "metadata": {},
   "outputs": [
    {
     "data": {
      "text/html": [
       "<div>\n",
       "<style scoped>\n",
       "    .dataframe tbody tr th:only-of-type {\n",
       "        vertical-align: middle;\n",
       "    }\n",
       "\n",
       "    .dataframe tbody tr th {\n",
       "        vertical-align: top;\n",
       "    }\n",
       "\n",
       "    .dataframe thead th {\n",
       "        text-align: right;\n",
       "    }\n",
       "</style>\n",
       "<table border=\"1\" class=\"dataframe\">\n",
       "  <thead>\n",
       "    <tr style=\"text-align: right;\">\n",
       "      <th></th>\n",
       "      <th>AMT_INCOME_TOTAL</th>\n",
       "      <th>DAYS_EMPLOYED</th>\n",
       "      <th>MONTHS_BALANCE</th>\n",
       "      <th>STATUS</th>\n",
       "      <th>cluster</th>\n",
       "      <th>cen_x</th>\n",
       "      <th>cen_y</th>\n",
       "      <th>c</th>\n",
       "    </tr>\n",
       "  </thead>\n",
       "  <tbody>\n",
       "    <tr>\n",
       "      <th>64</th>\n",
       "      <td>-0.596198</td>\n",
       "      <td>0.443416</td>\n",
       "      <td>2.310385</td>\n",
       "      <td>-9.717879</td>\n",
       "      <td>3</td>\n",
       "      <td>0.094556</td>\n",
       "      <td>0.056418</td>\n",
       "      <td>#F5F500</td>\n",
       "    </tr>\n",
       "    <tr>\n",
       "      <th>111</th>\n",
       "      <td>1.083767</td>\n",
       "      <td>0.454030</td>\n",
       "      <td>-0.514889</td>\n",
       "      <td>-9.717879</td>\n",
       "      <td>3</td>\n",
       "      <td>0.094556</td>\n",
       "      <td>0.056418</td>\n",
       "      <td>#F5F500</td>\n",
       "    </tr>\n",
       "    <tr>\n",
       "      <th>241</th>\n",
       "      <td>5.681566</td>\n",
       "      <td>0.439209</td>\n",
       "      <td>-0.514889</td>\n",
       "      <td>-9.717879</td>\n",
       "      <td>3</td>\n",
       "      <td>0.094556</td>\n",
       "      <td>0.056418</td>\n",
       "      <td>#F5F500</td>\n",
       "    </tr>\n",
       "    <tr>\n",
       "      <th>400</th>\n",
       "      <td>0.066946</td>\n",
       "      <td>0.444091</td>\n",
       "      <td>-0.514889</td>\n",
       "      <td>-9.717879</td>\n",
       "      <td>3</td>\n",
       "      <td>0.094556</td>\n",
       "      <td>0.056418</td>\n",
       "      <td>#F5F500</td>\n",
       "    </tr>\n",
       "    <tr>\n",
       "      <th>490</th>\n",
       "      <td>-0.949875</td>\n",
       "      <td>0.433906</td>\n",
       "      <td>-0.514889</td>\n",
       "      <td>-9.717879</td>\n",
       "      <td>3</td>\n",
       "      <td>0.094556</td>\n",
       "      <td>0.056418</td>\n",
       "      <td>#F5F500</td>\n",
       "    </tr>\n",
       "  </tbody>\n",
       "</table>\n",
       "</div>"
      ],
      "text/plain": [
       "     AMT_INCOME_TOTAL  DAYS_EMPLOYED  MONTHS_BALANCE    STATUS  cluster  \\\n",
       "64          -0.596198       0.443416        2.310385 -9.717879        3   \n",
       "111          1.083767       0.454030       -0.514889 -9.717879        3   \n",
       "241          5.681566       0.439209       -0.514889 -9.717879        3   \n",
       "400          0.066946       0.444091       -0.514889 -9.717879        3   \n",
       "490         -0.949875       0.433906       -0.514889 -9.717879        3   \n",
       "\n",
       "        cen_x     cen_y        c  \n",
       "64   0.094556  0.056418  #F5F500  \n",
       "111  0.094556  0.056418  #F5F500  \n",
       "241  0.094556  0.056418  #F5F500  \n",
       "400  0.094556  0.056418  #F5F500  \n",
       "490  0.094556  0.056418  #F5F500  "
      ]
     },
     "execution_count": 108,
     "metadata": {},
     "output_type": "execute_result"
    }
   ],
   "source": [
    "cluster3 = scaledDF6[scaledDF6[\"cluster\"] == 3]\n",
    "cluster3.head()"
   ]
  },
  {
   "cell_type": "code",
   "execution_count": 109,
   "id": "fb2f4841",
   "metadata": {},
   "outputs": [],
   "source": [
    "cluster3 = cluster3.drop(columns=[\"cluster\", \"cen_x\", \"cen_y\", \"c\"])"
   ]
  },
  {
   "cell_type": "code",
   "execution_count": 110,
   "id": "2b27847c",
   "metadata": {},
   "outputs": [
    {
     "data": {
      "text/html": [
       "<div>\n",
       "<style scoped>\n",
       "    .dataframe tbody tr th:only-of-type {\n",
       "        vertical-align: middle;\n",
       "    }\n",
       "\n",
       "    .dataframe tbody tr th {\n",
       "        vertical-align: top;\n",
       "    }\n",
       "\n",
       "    .dataframe thead th {\n",
       "        text-align: right;\n",
       "    }\n",
       "</style>\n",
       "<table border=\"1\" class=\"dataframe\">\n",
       "  <thead>\n",
       "    <tr style=\"text-align: right;\">\n",
       "      <th></th>\n",
       "      <th>AMT_INCOME_TOTAL</th>\n",
       "      <th>DAYS_EMPLOYED</th>\n",
       "      <th>MONTHS_BALANCE</th>\n",
       "      <th>STATUS</th>\n",
       "    </tr>\n",
       "  </thead>\n",
       "  <tbody>\n",
       "    <tr>\n",
       "      <th>64</th>\n",
       "      <td>-0.596198</td>\n",
       "      <td>0.443416</td>\n",
       "      <td>2.310385</td>\n",
       "      <td>-9.717879</td>\n",
       "    </tr>\n",
       "    <tr>\n",
       "      <th>111</th>\n",
       "      <td>1.083767</td>\n",
       "      <td>0.454030</td>\n",
       "      <td>-0.514889</td>\n",
       "      <td>-9.717879</td>\n",
       "    </tr>\n",
       "    <tr>\n",
       "      <th>241</th>\n",
       "      <td>5.681566</td>\n",
       "      <td>0.439209</td>\n",
       "      <td>-0.514889</td>\n",
       "      <td>-9.717879</td>\n",
       "    </tr>\n",
       "    <tr>\n",
       "      <th>400</th>\n",
       "      <td>0.066946</td>\n",
       "      <td>0.444091</td>\n",
       "      <td>-0.514889</td>\n",
       "      <td>-9.717879</td>\n",
       "    </tr>\n",
       "    <tr>\n",
       "      <th>490</th>\n",
       "      <td>-0.949875</td>\n",
       "      <td>0.433906</td>\n",
       "      <td>-0.514889</td>\n",
       "      <td>-9.717879</td>\n",
       "    </tr>\n",
       "  </tbody>\n",
       "</table>\n",
       "</div>"
      ],
      "text/plain": [
       "     AMT_INCOME_TOTAL  DAYS_EMPLOYED  MONTHS_BALANCE    STATUS\n",
       "64          -0.596198       0.443416        2.310385 -9.717879\n",
       "111          1.083767       0.454030       -0.514889 -9.717879\n",
       "241          5.681566       0.439209       -0.514889 -9.717879\n",
       "400          0.066946       0.444091       -0.514889 -9.717879\n",
       "490         -0.949875       0.433906       -0.514889 -9.717879"
      ]
     },
     "execution_count": 110,
     "metadata": {},
     "output_type": "execute_result"
    }
   ],
   "source": [
    "cluster3.head()"
   ]
  },
  {
   "cell_type": "code",
   "execution_count": 111,
   "id": "8ade546c",
   "metadata": {},
   "outputs": [],
   "source": [
    "cluster3 = scaler.inverse_transform(cluster3)"
   ]
  },
  {
   "cell_type": "code",
   "execution_count": 112,
   "id": "63233385",
   "metadata": {},
   "outputs": [
    {
     "data": {
      "text/html": [
       "<div>\n",
       "<style scoped>\n",
       "    .dataframe tbody tr th:only-of-type {\n",
       "        vertical-align: middle;\n",
       "    }\n",
       "\n",
       "    .dataframe tbody tr th {\n",
       "        vertical-align: top;\n",
       "    }\n",
       "\n",
       "    .dataframe thead th {\n",
       "        text-align: right;\n",
       "    }\n",
       "</style>\n",
       "<table border=\"1\" class=\"dataframe\">\n",
       "  <thead>\n",
       "    <tr style=\"text-align: right;\">\n",
       "      <th></th>\n",
       "      <th>AMT_INCOME_TOTAL</th>\n",
       "      <th>DAYS_EMPLOYED</th>\n",
       "      <th>MONTHS_BALANCE</th>\n",
       "      <th>STATUS</th>\n",
       "    </tr>\n",
       "  </thead>\n",
       "  <tbody>\n",
       "    <tr>\n",
       "      <th>0</th>\n",
       "      <td>126000.0</td>\n",
       "      <td>1773.0</td>\n",
       "      <td>32.0</td>\n",
       "      <td>0.0</td>\n",
       "    </tr>\n",
       "    <tr>\n",
       "      <th>1</th>\n",
       "      <td>297000.0</td>\n",
       "      <td>3234.0</td>\n",
       "      <td>0.0</td>\n",
       "      <td>0.0</td>\n",
       "    </tr>\n",
       "    <tr>\n",
       "      <th>2</th>\n",
       "      <td>765000.0</td>\n",
       "      <td>1194.0</td>\n",
       "      <td>0.0</td>\n",
       "      <td>0.0</td>\n",
       "    </tr>\n",
       "    <tr>\n",
       "      <th>3</th>\n",
       "      <td>193500.0</td>\n",
       "      <td>1866.0</td>\n",
       "      <td>0.0</td>\n",
       "      <td>0.0</td>\n",
       "    </tr>\n",
       "    <tr>\n",
       "      <th>4</th>\n",
       "      <td>90000.0</td>\n",
       "      <td>464.0</td>\n",
       "      <td>0.0</td>\n",
       "      <td>0.0</td>\n",
       "    </tr>\n",
       "  </tbody>\n",
       "</table>\n",
       "</div>"
      ],
      "text/plain": [
       "   AMT_INCOME_TOTAL  DAYS_EMPLOYED  MONTHS_BALANCE  STATUS\n",
       "0          126000.0         1773.0            32.0     0.0\n",
       "1          297000.0         3234.0             0.0     0.0\n",
       "2          765000.0         1194.0             0.0     0.0\n",
       "3          193500.0         1866.0             0.0     0.0\n",
       "4           90000.0          464.0             0.0     0.0"
      ]
     },
     "execution_count": 112,
     "metadata": {},
     "output_type": "execute_result"
    }
   ],
   "source": [
    "invertedCluster3 = pd.DataFrame(cluster3, columns = df6.columns)\n",
    "invertedCluster3.head()"
   ]
  },
  {
   "cell_type": "code",
   "execution_count": 122,
   "id": "052b6b95",
   "metadata": {},
   "outputs": [
    {
     "name": "stdout",
     "output_type": "stream",
     "text": [
      "900000.0\n"
     ]
    }
   ],
   "source": [
    "highest_income = invertedCluster3[\"AMT_INCOME_TOTAL\"].max()\n",
    "print(highest_income)"
   ]
  },
  {
   "cell_type": "markdown",
   "id": "fda4fc39",
   "metadata": {},
   "source": [
    "#### Observations\n",
    "\n",
    "Going back to the total income vs status scatter plot from earlier, we can see that the 900000 income is in line with the highest income that was observed. From this, we find that incomes within the low seven figures are highly unlikely to pay their bills late (if ever), and our credit model should be more lenient on those with extremely high incomes"
   ]
  },
  {
   "cell_type": "markdown",
   "id": "caebfd83",
   "metadata": {},
   "source": [
    "### Conclusions From Clustering\n",
    "\n",
    "We have developed a better sense of what makes a borrower less risky by juxtaposing specific characteristics like total income with their status on how late their payments are. This is in line with our intuition of how risky someone can be if they have a lower income vs a higher income. You are far more likely to lend money to someone who has the means to pay you back, and in our case a higher income individual will have that capacity to do so. Based on our observations through clustering, we have confirmed that very high income individuals are far less riskier to lend to"
   ]
  },
  {
   "cell_type": "markdown",
   "id": "f9184042",
   "metadata": {},
   "source": [
    "## Extraneous Analysis: Exploring the Data Beyond Clustering"
   ]
  },
  {
   "cell_type": "markdown",
   "id": "55a7e417",
   "metadata": {},
   "source": [
    "We should take a closer look at the numbers between owning property and approval chances as that may give us another important data point to consider"
   ]
  },
  {
   "cell_type": "markdown",
   "id": "cca14e90",
   "metadata": {},
   "source": [
    "#### FLAG_OWN_REALTY and STATUS"
   ]
  },
  {
   "cell_type": "code",
   "execution_count": 114,
   "id": "c2b7bd3c",
   "metadata": {},
   "outputs": [
    {
     "data": {
      "text/plain": [
       "Y    24506\n",
       "N    11951\n",
       "Name: FLAG_OWN_REALTY, dtype: int64"
      ]
     },
     "execution_count": 114,
     "metadata": {},
     "output_type": "execute_result"
    }
   ],
   "source": [
    "# FLAG_OWN_REALTY and STATUS\n",
    "df7 = comprehensive[[\"FLAG_OWN_REALTY\", \"STATUS\"]].copy()\n",
    "df7[\"FLAG_OWN_REALTY\"].value_counts()"
   ]
  },
  {
   "cell_type": "code",
   "execution_count": 123,
   "id": "aaa0d7a8",
   "metadata": {},
   "outputs": [
    {
     "data": {
      "text/plain": [
       "FLAG_OWN_REALTY    24259\n",
       "STATUS             24259\n",
       "dtype: int64"
      ]
     },
     "execution_count": 123,
     "metadata": {},
     "output_type": "execute_result"
    }
   ],
   "source": [
    "# How many people own property and were approved\n",
    "df7[(df7.FLAG_OWN_REALTY == \"Y\") & (df7.STATUS == 1)].count()"
   ]
  },
  {
   "cell_type": "code",
   "execution_count": 118,
   "id": "bab9e3fa",
   "metadata": {},
   "outputs": [
    {
     "data": {
      "text/plain": [
       "FLAG_OWN_REALTY    11816\n",
       "STATUS             11816\n",
       "dtype: int64"
      ]
     },
     "execution_count": 118,
     "metadata": {},
     "output_type": "execute_result"
    }
   ],
   "source": [
    "#How many people do not own property and were approved\n",
    "df7[(df7.FLAG_OWN_REALTY == \"N\") & (df7.STATUS == 1)].count()"
   ]
  },
  {
   "cell_type": "code",
   "execution_count": 119,
   "id": "e12067ff",
   "metadata": {},
   "outputs": [
    {
     "data": {
      "text/plain": [
       "FLAG_OWN_REALTY    247\n",
       "STATUS             247\n",
       "dtype: int64"
      ]
     },
     "execution_count": 119,
     "metadata": {},
     "output_type": "execute_result"
    }
   ],
   "source": [
    "# How many people do own property and were not approved\n",
    "df7[(df7.FLAG_OWN_REALTY == \"Y\") & (df7.STATUS == 0)].count()"
   ]
  },
  {
   "cell_type": "code",
   "execution_count": 121,
   "id": "798be381",
   "metadata": {},
   "outputs": [
    {
     "data": {
      "text/plain": [
       "FLAG_OWN_REALTY    135\n",
       "STATUS             135\n",
       "dtype: int64"
      ]
     },
     "execution_count": 121,
     "metadata": {},
     "output_type": "execute_result"
    }
   ],
   "source": [
    "# How many people do not own property and were not approved\n",
    "df7[(df7.FLAG_OWN_REALTY == \"N\") & (df7.STATUS == 0)].count()"
   ]
  },
  {
   "cell_type": "markdown",
   "id": "ef944a4f",
   "metadata": {},
   "source": [
    "### Conclusions from Extraneous Analysis\n",
    "\n",
    "We find that people who own property are very unlikely to miss on a payment for longer than a 30 day window. This could also be very useful for reducing the strictness of our model on individuals who own property, giving them more leg room to be approved"
   ]
  }
 ],
 "metadata": {
  "kernelspec": {
   "display_name": "Python 3 (ipykernel)",
   "language": "python",
   "name": "python3"
  },
  "language_info": {
   "codemirror_mode": {
    "name": "ipython",
    "version": 3
   },
   "file_extension": ".py",
   "mimetype": "text/x-python",
   "name": "python",
   "nbconvert_exporter": "python",
   "pygments_lexer": "ipython3",
   "version": "3.9.7"
  }
 },
 "nbformat": 4,
 "nbformat_minor": 5
}
