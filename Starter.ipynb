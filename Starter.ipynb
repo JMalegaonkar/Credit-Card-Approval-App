{
 "cells": [
  {
   "cell_type": "markdown",
   "id": "791770d1-f788-41ff-a655-c686e16b6748",
   "metadata": {},
   "source": [
    "## Model for predicting approval\n",
    "\n",
    "Here we are trying to predict via personal info whether or not one could be approved for credit card.\n",
    "\n",
    "Problem statement: According to the Consumer Financial Protection Bureau, approximately 45 million Americans do not have a credit score, preventing most from obtaining mortgages, car loans, and even personal loans. This problem stems from a lack of financial literacy among Americans and it’s costing millions of households thousands of dollars every year. The easiest way to build credit is through credit cards, where people can develop a credit history and improve their credit over time. Before applying for credit, people must meet a certain set of criteria like age of credit, income, cost of housing, etc. This data is then used by banks to determine credit worthiness and applicants are either approved or denied, with very little feedback given to applicants who were denied. We propose an ML model to help applicants gauge their creditworthiness before applying, helping them avoid an unnecessary credit score drop from a hard pull on their credit report.\n"
   ]
  },
  {
   "cell_type": "markdown",
   "id": "cff44885-347b-471b-a924-4e6df76b88c4",
   "metadata": {},
   "source": [
    "### DATA preprocessing"
   ]
  },
  {
   "cell_type": "code",
   "execution_count": 1,
   "id": "c4ae08a0-5606-4c11-951d-2fb39178aeed",
   "metadata": {},
   "outputs": [
    {
     "name": "stdout",
     "output_type": "stream",
     "text": [
      "ID                1048575\n",
      "MONTHS_BALANCE    1048575\n",
      "STATUS            1048575\n",
      "dtype: int64\n",
      "\n",
      "\n",
      "ID                     438557\n",
      "CODE_GENDER            438557\n",
      "FLAG_OWN_CAR           438557\n",
      "FLAG_OWN_REALTY        438557\n",
      "CNT_CHILDREN           438557\n",
      "AMT_INCOME_TOTAL       438557\n",
      "NAME_INCOME_TYPE       438557\n",
      "NAME_EDUCATION_TYPE    438557\n",
      "NAME_FAMILY_STATUS     438557\n",
      "NAME_HOUSING_TYPE      438557\n",
      "DAYS_BIRTH             438557\n",
      "DAYS_EMPLOYED          438557\n",
      "FLAG_MOBIL             438557\n",
      "FLAG_WORK_PHONE        438557\n",
      "FLAG_PHONE             438557\n",
      "FLAG_EMAIL             438557\n",
      "OCCUPATION_TYPE        304354\n",
      "CNT_FAM_MEMBERS        438557\n",
      "dtype: int64\n"
     ]
    }
   ],
   "source": [
    "import numpy as np\n",
    "import pandas as pd   \n",
    "import seaborn as sns\n",
    "import matplotlib.pyplot as plt\n",
    "credit = pd.read_csv('credit_record.csv')  \n",
    "application = pd.read_csv('application_record.csv')\n",
    "\n",
    "print(credit.count())\n",
    "credit.head()\n",
    "print(\"\\n\")\n",
    "print(application.count())\n"
   ]
  },
  {
   "cell_type": "markdown",
   "id": "4da55091-f546-457f-927b-272d809a0574",
   "metadata": {},
   "source": [
    "Here we can see a differnet count between the two files we are using, This can be attributed to how the credit_record.csv is formatted but as we will see the credit_record.csv does not contain all the IDs that application_record.csv contains"
   ]
  },
  {
   "cell_type": "code",
   "execution_count": 2,
   "id": "e3b82c0b-75c3-42c5-80a2-0a0d5f061643",
   "metadata": {},
   "outputs": [
    {
     "name": "stdout",
     "output_type": "stream",
     "text": [
      "number of differnet IDs in application\n",
      "402053\n",
      "\n",
      "number of differnet IDs in credit\n",
      "9528\n",
      "\n",
      "number of differnet IDs in application\n",
      "0\n",
      "\n",
      "number of differnet IDs in credit\n",
      "0\n"
     ]
    },
    {
     "data": {
      "text/plain": [
       "36457"
      ]
     },
     "execution_count": 2,
     "metadata": {},
     "output_type": "execute_result"
    }
   ],
   "source": [
    "creditIDs=credit.ID.unique()\n",
    "applicationIDs=application.ID.unique()\n",
    "totalIDsDiff= np.setdiff1d(applicationIDs,creditIDs)\n",
    "# here applicationIDs has alot more IDs that creditIDS doesnt so we will remove those\n",
    "print(\"number of differnet IDs in application\")\n",
    "print(len(totalIDsDiff))\n",
    "\n",
    "f_df=application[application.ID.isin(totalIDsDiff)]\n",
    "filtered_application=pd.concat([application, f_df, f_df]).drop_duplicates(keep=False)\n",
    "\n",
    "\n",
    "totalIDsDiff= np.setdiff1d(creditIDs,applicationIDs)\n",
    "print(\"\\nnumber of differnet IDs in credit\")\n",
    "print(len(totalIDsDiff))\n",
    "\n",
    "f_df=credit[credit.ID.isin(totalIDsDiff)]\n",
    "filtered_credit=pd.concat([credit, f_df, f_df]).drop_duplicates(keep=False)\n",
    "\n",
    "creditIDs=filtered_credit.ID.unique()\n",
    "applicationIDs=filtered_application.ID.unique()\n",
    "\n",
    "totalIDsDiff= np.setdiff1d(applicationIDs,creditIDs)\n",
    "print(\"\\nnumber of differnet IDs in application\")\n",
    "print(len(totalIDsDiff))\n",
    "\n",
    "totalIDsDiff= np.setdiff1d(creditIDs,applicationIDs)\n",
    "print(\"\\nnumber of differnet IDs in credit\")\n",
    "print(len(totalIDsDiff))\n",
    "len(filtered_credit.ID.unique())\n",
    "# Note that if you have a better way to filter the dataframe please do it because this method isin is very slow\n",
    "# TODO: drop NAN, fix days employed, fix Occupation_type"
   ]
  },
  {
   "cell_type": "markdown",
   "id": "3e37f7f8-17e7-42d0-81be-1c3ead255da5",
   "metadata": {},
   "source": [
    "After that there are 2 more preprocessing steps I have identified so far, there could be more. However, we need to preform a vintage anyalysis on the Credit_record.csv to create the label in which we will be predicting and then we have to remove some Null values.\n",
    "\n",
    "Note for for the vintage anaylsis, this data set doesn not contain a label that tells if someone has been approved. Intsead it contains their loan record. We could have choosen a differnet data set with the label that tells if someone has been approved, but like in real scenarios the data being used might not always be complete. So instead we are using Vintage Analysis to preform some data processing on the credit record to create a label that would mimic a credit card approved label. Vintage Analysis is one of many popular methods for accessing credit risk. It is used to determine the number of months' data you should consider for performance window. If customer defaults (90 days or more past due) during the performance window, borrower would be considered as a risk and would more likely be declined for credit card approval. We will use this combinedd with a proportion of the customers past due to determine their likelyhood of being approved for credit or not. 1 being that they meet all criteria to being approved and 0 being that they are not apporved."
   ]
  },
  {
   "cell_type": "markdown",
   "id": "711aa64c-b2e5-434c-99c7-516bc859a6b2",
   "metadata": {},
   "source": [
    "NOTE: to reader do not include in final submit\n",
    "\n",
    "What is our model doing then? like what is our justification to our model? If the Vintage analysis already exists where a user doesnt need to pull credit instead provide loan info they can get an accurate guess of approval?\n",
    "\n",
    "My own thought about this is that, we are trying to connect the labels in application_record.csv to credit approval through connecting the labels to loan history to approval. So no we dont even need loan history, just the labels we decide to use?\n",
    "\n",
    "I am not quite sure if that makes sense tbh, like are we allowed to make that connection/assumption? so what we are really doing is predicting good or bad loan history based on these labels if we do this?\n",
    "\n",
    "-Patrick"
   ]
  },
  {
   "cell_type": "markdown",
   "id": "7527f310-721f-455e-b7c9-d782a7c599ee",
   "metadata": {},
   "source": [
    "# link\n",
    "\n",
    "link to the vintage analysis the author of the dataset does\n",
    "https://www.kaggle.com/code/rikdifos/eda-vintage-analysis\n",
    "\n",
    "I looked over this and it still just seems that they set anyone over 60 days past due to be a bad customer?\n",
    "\n",
    "are we allowed to do this kinda target label creation? It seems kind of arbitrary to me tbh.\n",
    "\n",
    "We should also start a LaTex for this because thats what she asks for.\n",
    "\n",
    "need some refrence like research papers, different methods on how we approached this which for us will probably include alot of data processing and figures. We will using supervised learning I think. The link I provided has some nice figures and explination on what they do for preprocessing."
   ]
  },
  {
   "cell_type": "code",
   "execution_count": 3,
   "id": "546190a3-2eb5-42da-95b7-4b612dc796b4",
   "metadata": {},
   "outputs": [
    {
     "data": {
      "text/plain": [
       "ID                         0\n",
       "CODE_GENDER                0\n",
       "FLAG_OWN_CAR               0\n",
       "FLAG_OWN_REALTY            0\n",
       "CNT_CHILDREN               0\n",
       "AMT_INCOME_TOTAL           0\n",
       "NAME_INCOME_TYPE           0\n",
       "NAME_EDUCATION_TYPE        0\n",
       "NAME_FAMILY_STATUS         0\n",
       "NAME_HOUSING_TYPE          0\n",
       "DAYS_BIRTH                 0\n",
       "DAYS_EMPLOYED              0\n",
       "FLAG_MOBIL                 0\n",
       "FLAG_WORK_PHONE            0\n",
       "FLAG_PHONE                 0\n",
       "FLAG_EMAIL                 0\n",
       "OCCUPATION_TYPE        11323\n",
       "CNT_FAM_MEMBERS            0\n",
       "dtype: int64"
      ]
     },
     "execution_count": 3,
     "metadata": {},
     "output_type": "execute_result"
    }
   ],
   "source": [
    "filtered_application\n",
    "filtered_credit\n",
    "\n",
    "# fill Occupation NA\n",
    "filtered_application.isnull().sum()\n"
   ]
  },
  {
   "cell_type": "code",
   "execution_count": 4,
   "id": "e9e11f4f-a028-49d0-96eb-3b2d17dff64e",
   "metadata": {},
   "outputs": [],
   "source": [
    "\n",
    "filtered_application['OCCUPATION_TYPE'].fillna(value='Not identified', inplace=True)\n"
   ]
  },
  {
   "cell_type": "markdown",
   "id": "f7963fbc-a84f-4e47-ace0-0327881723b2",
   "metadata": {},
   "source": [
    " we need to determine who is a bad or good approval. I will be using a very simple \n",
    "determination via late loan payments\n",
    "\n",
    "according to vary sources late payments 60 days or later will have extra affects on your score and in some cases late payements over 90 can cause your account to default, which can cause even more devestating affects on your credit account. So, I will split the credit status up\n",
    "\n",
    "{'C' : 1,\n",
    "\n",
    "'X' : 0,\n",
    "\n",
    "'0' : -1,\n",
    "\n",
    "'1' : -2,\n",
    "\n",
    "'2' : -3,\n",
    "\n",
    "'3' : -4,\n",
    "\n",
    "'4' : -5,\n",
    "\n",
    "'5' : -6}\n",
    "\n",
    "Then I will add up the values per ID and if the total debt value is less than 0 then they will be considered not approved or will not be approved\n",
    "\n",
    "NOTE: if anyone can find any revelance to how old your account affects your credit please add it\n",
    "\n",
    "MORE NOTES:\n",
    "\n",
    "Originally\n",
    "\n",
    "{'C' : 1,\n",
    "\n",
    "'X' : 1,\n",
    "\n",
    "'0' : 1,\n",
    "\n",
    "'1' : -1,\n",
    "\n",
    "'2' : -1,\n",
    "\n",
    "'3' : -3,\n",
    "\n",
    "'4' : -3,\n",
    "\n",
    "'5' : -3}\n",
    "\n",
    "\n",
    "But this lead tooo wayyyy oversampleing of 1 meaning over 99 percent were being approved which did not seem right to me"
   ]
  },
  {
   "cell_type": "code",
   "execution_count": 5,
   "id": "40f341e6-7a29-4a02-ada5-c27346509af9",
   "metadata": {},
   "outputs": [
    {
     "name": "stdout",
     "output_type": "stream",
     "text": [
      "STATUS   -6  -5  -4  -3  -2  -1   0   1\n",
      "ID                                     \n",
      "5008804   0   0   0   0   1   1   1  13\n",
      "5008805   0   0   0   0   1   1   1  12\n",
      "5008806   0   0   0   0   0   7  16   7\n",
      "5008808   0   0   0   0   0   2   3   0\n",
      "5008809   0   0   0   0   0   0   5   0\n",
      "...      ..  ..  ..  ..  ..  ..  ..  ..\n",
      "5150482   0   0   0   0   0  12   0   6\n",
      "5150483   0   0   0   0   0   0  18   0\n",
      "5150484   0   0   0   0   0  12   0   1\n",
      "5150485   0   0   0   0   0   2   0   0\n",
      "5150487   0   0   0   0   0   0   0  30\n",
      "\n",
      "[36457 rows x 8 columns]\n"
     ]
    },
    {
     "data": {
      "text/plain": [
       "1.0    0.982265\n",
       "0.0    0.017735\n",
       "Name: APPROVAL_STATUS, dtype: float64"
      ]
     },
     "execution_count": 5,
     "metadata": {},
     "output_type": "execute_result"
    }
   ],
   "source": [
    "My_credit_Dict = {'C' : 1,\n",
    "               'X' : 0,\n",
    "               '0' : -1,\n",
    "               '1' : -2,\n",
    "               '2' : -3,\n",
    "               '3' : -4,\n",
    "               '4' : -5,\n",
    "               '5' : -6}\n",
    "filtered_credit.replace({'STATUS' : My_credit_Dict }, inplace=True)\n",
    "new_filtered_credit = filtered_credit.value_counts(subset=['ID', 'STATUS']).unstack(fill_value=0)\n",
    "print(new_filtered_credit)\n",
    "\n",
    "new_filtered_credit.loc[(new_filtered_credit[1]-new_filtered_credit[-1]-(2*new_filtered_credit[-2])-(3*new_filtered_credit[-3]) >= 0)-(4*new_filtered_credit[-4])-(5*new_filtered_credit[-5])-(6*new_filtered_credit[-6]) > 0, 'APPROVAL_STATUS'] = 1\n",
    "new_filtered_credit.loc[(new_filtered_credit[1]-new_filtered_credit[-1]-(2*new_filtered_credit[-2])-(3*new_filtered_credit[-3]) >= 0)-(4*new_filtered_credit[-4])-(5*new_filtered_credit[-5])-(6*new_filtered_credit[-6]) < 0, 'APPROVAL_STATUS'] = 0\n",
    "new_filtered_credit['APPROVAL_STATUS'].value_counts(normalize=True)\n",
    "#NOte this is still horribly oversampled? lol that is kinda bad. We will need to use something to counter act that"
   ]
  },
  {
   "cell_type": "markdown",
   "id": "c161fd5d-f740-4d97-851c-5401022e332f",
   "metadata": {},
   "source": [
    "# How to deal with oversampling\n",
    "https://en.wikipedia.org/wiki/Oversampling_and_undersampling_in_data_analysis"
   ]
  },
  {
   "cell_type": "markdown",
   "id": "86366619-d1f9-4ebd-81f8-74ac569ffa36",
   "metadata": {},
   "source": [
    "From here I would drop the -6-1 columns then combine the approval status with application and then build a tree to maybe view and feature importance and maybe build some other models. then rebuild them with removed features tbh. end of credit_csv processing, should combine with applicaiton but I want to mess with that one as well before."
   ]
  },
  {
   "cell_type": "code",
   "execution_count": 6,
   "id": "27709f99-7034-42d0-be35-2e0d18675342",
   "metadata": {},
   "outputs": [
    {
     "data": {
      "text/plain": [
       "ID                     36457\n",
       "CODE_GENDER                2\n",
       "FLAG_OWN_CAR               2\n",
       "FLAG_OWN_REALTY            2\n",
       "CNT_CHILDREN               9\n",
       "AMT_INCOME_TOTAL         265\n",
       "NAME_INCOME_TYPE           5\n",
       "NAME_EDUCATION_TYPE        5\n",
       "NAME_FAMILY_STATUS         5\n",
       "NAME_HOUSING_TYPE          6\n",
       "DAYS_BIRTH              7183\n",
       "DAYS_EMPLOYED           3640\n",
       "FLAG_MOBIL                 1\n",
       "FLAG_WORK_PHONE            2\n",
       "FLAG_PHONE                 2\n",
       "FLAG_EMAIL                 2\n",
       "OCCUPATION_TYPE           19\n",
       "CNT_FAM_MEMBERS           10\n",
       "dtype: int64"
      ]
     },
     "execution_count": 6,
     "metadata": {},
     "output_type": "execute_result"
    }
   ],
   "source": [
    "filtered_application.nunique()"
   ]
  },
  {
   "cell_type": "markdown",
   "id": "0e29eda6-6769-4de0-8642-cebbc17445fd",
   "metadata": {},
   "source": [
    "FLAG_MOBIL only has one value which means it is unnecessary.\n",
    "\n",
    "Besides that I dont want to get rid of any other labels until we can have a rough estimate of their correlation.\n",
    "\n",
    "Next we will explore some interesting numerical date that through intuition might have an affect on credit and are not just flag labels. So labels like income, name income, days employed, occupation, age, and eduaction."
   ]
  },
  {
   "cell_type": "code",
   "execution_count": 7,
   "id": "fbe9980c-edf6-4239-a523-897e9328a440",
   "metadata": {},
   "outputs": [],
   "source": [
    "filtered_application.drop('FLAG_MOBIL', axis=1, inplace = True)"
   ]
  },
  {
   "cell_type": "markdown",
   "id": "2f9e683e-51f7-407a-817a-0e6f7c22e4be",
   "metadata": {},
   "source": [
    "Now lets take a look at the occupations and income"
   ]
  },
  {
   "cell_type": "code",
   "execution_count": 1,
   "id": "2d9f1523-0e83-457d-af03-0303fc6f8d2b",
   "metadata": {},
   "outputs": [
    {
     "ename": "NameError",
     "evalue": "name 'filtered_application' is not defined",
     "output_type": "error",
     "traceback": [
      "\u001b[1;31m---------------------------------------------------------------------------\u001b[0m",
      "\u001b[1;31mNameError\u001b[0m                                 Traceback (most recent call last)",
      "\u001b[1;32m~\\AppData\\Local\\Temp/ipykernel_11664/3282332468.py\u001b[0m in \u001b[0;36m<module>\u001b[1;34m\u001b[0m\n\u001b[1;32m----> 1\u001b[1;33m \u001b[0mprint\u001b[0m\u001b[1;33m(\u001b[0m\u001b[0mfiltered_application\u001b[0m\u001b[1;33m[\u001b[0m\u001b[1;34m'OCCUPATION_TYPE'\u001b[0m\u001b[1;33m]\u001b[0m\u001b[1;33m.\u001b[0m\u001b[0munique\u001b[0m\u001b[1;33m(\u001b[0m\u001b[1;33m)\u001b[0m\u001b[1;33m)\u001b[0m\u001b[1;33m\u001b[0m\u001b[1;33m\u001b[0m\u001b[0m\n\u001b[0m\u001b[0;32m      2\u001b[0m \u001b[0mprint\u001b[0m\u001b[1;33m(\u001b[0m\u001b[0mfiltered_application\u001b[0m\u001b[1;33m[\u001b[0m\u001b[1;34m'NAME_INCOME_TYPE'\u001b[0m\u001b[1;33m]\u001b[0m\u001b[1;33m.\u001b[0m\u001b[0munique\u001b[0m\u001b[1;33m(\u001b[0m\u001b[1;33m)\u001b[0m\u001b[1;33m)\u001b[0m\u001b[1;33m\u001b[0m\u001b[1;33m\u001b[0m\u001b[0m\n\u001b[0;32m      3\u001b[0m \u001b[1;33m\u001b[0m\u001b[0m\n\u001b[0;32m      4\u001b[0m \u001b[1;31m#this is a bad plot lol will probably get rid of this one lmao\u001b[0m\u001b[1;33m\u001b[0m\u001b[1;33m\u001b[0m\u001b[0m\n\u001b[0;32m      5\u001b[0m \u001b[0mplt\u001b[0m\u001b[1;33m=\u001b[0m\u001b[0msns\u001b[0m\u001b[1;33m.\u001b[0m\u001b[0mscatterplot\u001b[0m\u001b[1;33m(\u001b[0m\u001b[0mfiltered_application\u001b[0m\u001b[1;33m[\u001b[0m\u001b[1;34m'NAME_INCOME_TYPE'\u001b[0m\u001b[1;33m]\u001b[0m\u001b[1;33m,\u001b[0m\u001b[0mfiltered_application\u001b[0m\u001b[1;33m[\u001b[0m\u001b[1;34m'DAYS_EMPLOYED'\u001b[0m\u001b[1;33m]\u001b[0m\u001b[1;33m)\u001b[0m\u001b[1;33m\u001b[0m\u001b[1;33m\u001b[0m\u001b[0m\n",
      "\u001b[1;31mNameError\u001b[0m: name 'filtered_application' is not defined"
     ]
    }
   ],
   "source": [
    "print(filtered_application['OCCUPATION_TYPE'].unique())\n",
    "print(filtered_application['NAME_INCOME_TYPE'].unique())\n",
    "\n",
    "#this is a bad plot lol will probably get rid of this one lmao\n",
    "plt=sns.scatterplot(filtered_application['NAME_INCOME_TYPE'],filtered_application['DAYS_EMPLOYED'])\n",
    "plt.tick_params(axis='x', rotation=90)\n",
    "\n",
    "#better looking plot lmao\n",
    "filtered_application[['OCCUPATION_TYPE','DAYS_EMPLOYED']].hist(by='OCCUPATION_TYPE', figsize=(20, 20))\n",
    "\n",
    "filtered_application[['NAME_INCOME_TYPE','AMT_INCOME_TOTAL']].hist(by='NAME_INCOME_TYPE', figsize=(20, 20))"
   ]
  },
  {
   "cell_type": "markdown",
   "id": "b69f594a-4920-4086-9a80-651056245096",
   "metadata": {},
   "source": [
    "The Occupation types does seems fine as most of the occupations are general. However name_income type seem to be thrown off as students are an income type? So lets explore that and besides that some DAYS_EMPLOYED is skewing this plot as seen in the NOT IDENTified label"
   ]
  },
  {
   "cell_type": "code",
   "execution_count": 21,
   "id": "e320d2cc-c5dc-4938-89dd-564c7bb57399",
   "metadata": {},
   "outputs": [
    {
     "name": "stdout",
     "output_type": "stream",
     "text": [
      "Working                 18819\n",
      "Commercial associate     8490\n",
      "Pensioner                6152\n",
      "State servant            2985\n",
      "Student                    11\n",
      "Name: NAME_INCOME_TYPE, dtype: int64\n"
     ]
    }
   ],
   "source": [
    "\n",
    "print(filtered_application['NAME_INCOME_TYPE'].value_counts())"
   ]
  },
  {
   "cell_type": "markdown",
   "id": "b024275f-2214-4e2b-8a48-3c9be729fc8f",
   "metadata": {},
   "source": [
    "I admit it is weird to have 11 students have over 11000k in income amount per year but its not such a common outlier that we have to remove it. The Not identified poses a larger problem as some people are set to a postive number which is impossible, because DAYS_EMPLOYED is negative meaning the application started work -x days ago, so a positive number means they have worked negative days. Note we could just eliminate all those who have this label but we can first try to pinpoint the problem. By instead looking at the days work and name income, instead of Occupation"
   ]
  },
  {
   "cell_type": "code",
   "execution_count": 23,
   "id": "2c11f0ef-197e-444f-b8ff-de737aa51adf",
   "metadata": {},
   "outputs": [
    {
     "data": {
      "text/plain": [
       "array([[<AxesSubplot:title={'center':'Commercial associate'}>,\n",
       "        <AxesSubplot:title={'center':'Pensioner'}>],\n",
       "       [<AxesSubplot:title={'center':'State servant'}>,\n",
       "        <AxesSubplot:title={'center':'Student'}>],\n",
       "       [<AxesSubplot:title={'center':'Working'}>, <AxesSubplot:>]],\n",
       "      dtype=object)"
      ]
     },
     "execution_count": 23,
     "metadata": {},
     "output_type": "execute_result"
    },
    {
     "data": {
      "image/png": "[encoded data removed]",
      "text/plain": [
       "<Figure size 1440x1440 with 6 Axes>"
      ]
     },
     "metadata": {
      "needs_background": "light"
     },
     "output_type": "display_data"
    }
   ],
   "source": [
    "filtered_application[['NAME_INCOME_TYPE','DAYS_EMPLOYED']].hist(by='NAME_INCOME_TYPE', figsize=(20, 20))\n"
   ]
  },
  {
   "cell_type": "markdown",
   "id": "7c00ea30-801a-41f7-a7cb-4f8d589eeea1",
   "metadata": {},
   "source": [
    "Here we can clearly see that pensioners are set to this value that is suppposed to be impossible, so instead we can instead change the pensioners days employed to zero instead of eliminating those data points. Besides that we should also change days employed to years, with to the closest year as the exact date of employment is less known by users(unsure if we should do this). Also maybe want to either label encode or one hot encode the flag values for more data processing"
   ]
  },
  {
   "cell_type": "code",
   "execution_count": null,
   "id": "1e64dab7-771f-4114-9b21-4b3549ce53e8",
   "metadata": {},
   "outputs": [],
   "source": []
  }
 ],
 "metadata": {
  "kernelspec": {
   "display_name": "Python 3 (ipykernel)",
   "language": "python",
   "name": "python3"
  },
  "language_info": {
   "codemirror_mode": {
    "name": "ipython",
    "version": 3
   },
   "file_extension": ".py",
   "mimetype": "text/x-python",
   "name": "python",
   "nbconvert_exporter": "python",
   "pygments_lexer": "ipython3",
   "version": "3.9.7"
  }
 },
 "nbformat": 4,
 "nbformat_minor": 5
}
