{
 "cells": [
  {
   "cell_type": "markdown",
   "id": "ae127784-e075-4a95-a14c-12a2dc2ff3f2",
   "metadata": {},
   "source": [
    "## Model for predicting approval\n",
    "\n",
    "Here we are trying to predict via personal info whether or not one could be approved for credit card.\n",
    "\n",
    "Problem statement: According to the Consumer Financial Protection Bureau, approximately 45 million Americans do not have a credit score, preventing most from obtaining mortgages, car loans, and even personal loans. This problem stems from a lack of financial literacy among Americans and it’s costing millions of households thousands of dollars every year. The easiest way to build credit is through credit cards, where people can develop a credit history and improve their credit over time. Before applying for credit, people must meet a certain set of criteria like age of credit, income, cost of housing, etc. This data is then used by banks to determine credit worthiness and applicants are either approved or denied, with very little feedback given to applicants who were denied. We propose an ML model to help applicants gauge their creditworthiness before applying, helping them avoid an unnecessary credit score drop from a hard pull on their credit report.\n"
   ]
  },
  {
   "cell_type": "markdown",
   "id": "cff44885-347b-471b-a924-4e6df76b88c4",
   "metadata": {},
   "source": [
    "### DATA preprocessing"
   ]
  },
  {
   "cell_type": "code",
   "execution_count": 1,
   "id": "c4ae08a0-5606-4c11-951d-2fb39178aeed",
   "metadata": {},
   "outputs": [
    {
     "name": "stdout",
     "output_type": "stream",
     "text": [
      "ID                1048575\n",
      "MONTHS_BALANCE    1048575\n",
      "STATUS            1048575\n",
      "dtype: int64\n",
      "\n",
      "\n",
      "ID                     438557\n",
      "CODE_GENDER            438557\n",
      "FLAG_OWN_CAR           438557\n",
      "FLAG_OWN_REALTY        438557\n",
      "CNT_CHILDREN           438557\n",
      "AMT_INCOME_TOTAL       438557\n",
      "NAME_INCOME_TYPE       438557\n",
      "NAME_EDUCATION_TYPE    438557\n",
      "NAME_FAMILY_STATUS     438557\n",
      "NAME_HOUSING_TYPE      438557\n",
      "DAYS_BIRTH             438557\n",
      "DAYS_EMPLOYED          438557\n",
      "FLAG_MOBIL             438557\n",
      "FLAG_WORK_PHONE        438557\n",
      "FLAG_PHONE             438557\n",
      "FLAG_EMAIL             438557\n",
      "OCCUPATION_TYPE        304354\n",
      "CNT_FAM_MEMBERS        438557\n",
      "dtype: int64\n"
     ]
    }
   ],
   "source": [
    "import numpy as np\n",
    "import pandas as pd    \n",
    "import matplotlib.pyplot as plt\n",
    "credit = pd.read_csv('credit_record.csv')  \n",
    "application = pd.read_csv('application_record.csv')\n",
    "\n",
    "print(credit.count())\n",
    "credit.head()\n",
    "print(\"\\n\")\n",
    "print(application.count())\n"
   ]
  },
  {
   "cell_type": "markdown",
   "id": "4da55091-f546-457f-927b-272d809a0574",
   "metadata": {},
   "source": [
    "Here we can see a differnet count between the two files we are using, This can be attributed to how the credit_record.csv is formatted but as we will see the credit_record.csv does not contain all the IDs that application_record.csv contains"
   ]
  },
  {
   "cell_type": "code",
   "execution_count": 5,
   "id": "e3b82c0b-75c3-42c5-80a2-0a0d5f061643",
   "metadata": {},
   "outputs": [
    {
     "name": "stdout",
     "output_type": "stream",
     "text": [
      "number of differnet IDs in application\n",
      "402053\n",
      "\n",
      "number of differnet IDs in credit\n",
      "9528\n",
      "\n",
      "number of differnet IDs in application\n",
      "0\n",
      "\n",
      "number of differnet IDs in credit\n",
      "0\n"
     ]
    },
    {
     "data": {
      "text/plain": [
       "36457"
      ]
     },
     "execution_count": 5,
     "metadata": {},
     "output_type": "execute_result"
    }
   ],
   "source": [
    "creditIDs=credit.ID.unique()\n",
    "applicationIDs=application.ID.unique()\n",
    "totalIDsDiff= np.setdiff1d(applicationIDs,creditIDs)\n",
    "# here applicationIDs has alot more IDs that creditIDS doesnt so we will remove those\n",
    "print(\"number of differnet IDs in application\")\n",
    "print(len(totalIDsDiff))\n",
    "\n",
    "f_df=application[application.ID.isin(totalIDsDiff)]\n",
    "filtered_application=pd.concat([application, f_df, f_df]).drop_duplicates(keep=False)\n",
    "\n",
    "\n",
    "totalIDsDiff= np.setdiff1d(creditIDs,applicationIDs)\n",
    "print(\"\\nnumber of differnet IDs in credit\")\n",
    "print(len(totalIDsDiff))\n",
    "\n",
    "f_df=credit[credit.ID.isin(totalIDsDiff)]\n",
    "filtered_credit=pd.concat([credit, f_df, f_df]).drop_duplicates(keep=False)\n",
    "\n",
    "creditIDs=filtered_credit.ID.unique()\n",
    "applicationIDs=filtered_application.ID.unique()\n",
    "\n",
    "totalIDsDiff= np.setdiff1d(applicationIDs,creditIDs)\n",
    "print(\"\\nnumber of differnet IDs in application\")\n",
    "print(len(totalIDsDiff))\n",
    "\n",
    "totalIDsDiff= np.setdiff1d(creditIDs,applicationIDs)\n",
    "print(\"\\nnumber of differnet IDs in credit\")\n",
    "print(len(totalIDsDiff))\n",
    "len(filtered_credit.ID.unique())\n",
    "# Note that if you have a better way to filter the dataframe please do it because this method isin is very slow"
   ]
  },
  {
   "cell_type": "markdown",
   "id": "3e37f7f8-17e7-42d0-81be-1c3ead255da5",
   "metadata": {},
   "source": [
    "After that there are 2 more preprocessing steps I have identified so far, there could be more. However, we need to preform a vintage anyalysis on the Credit_record.csv to create the label in which we will be predicting and then we have to remove some Null values.\n",
    "\n",
    "Note for for the vintage anaylsis, this data set doesn not contain a label that tells if someone has been approved. Intsead it contains their loan record. We could have choosen a differnet data set with the label that tells if someone has been approved, but like in real scenarios the data being used might not always be complete. So instead we are using Vintage Analysis to preform some data processing on the credit record to create a label that would mimic a credit card approved label. Vintage Analysis is one of many popular methods for accessing credit risk. It is used to determine the number of months' data you should consider for performance window. If customer defaults (90 days or more past due) during the performance window, borrower would be considered as a risk and would more likely be declined for credit card approval. We will use this combinedd with a proportion of the customers past due to determine their likelyhood of being approved for credit or not. 1 being that they meet all criteria to being approved and 0 being that they are not apporved."
   ]
  },
  {
   "cell_type": "markdown",
   "id": "711aa64c-b2e5-434c-99c7-516bc859a6b2",
   "metadata": {},
   "source": [
    "NOTE: to reader do not include in final submit\n",
    "\n",
    "What is our model doing then? like what is our justification to our model? If the Vintage analysis already exists where a user doesnt need to pull credit instead provide loan info they can get an accurate guess of approval?\n",
    "\n",
    "My own thought about this is that, we are trying to connect the labels in application_record.csv to credit approval through connecting the labels to loan history to approval. So no we dont even need loan history, just the labels we decide to use?\n",
    "\n",
    "I am not quite sure if that makes sense tbh, like are we allowed to make that connection/assumption? so what we are really doing is predicting good or bad loan history based on these labels if we do this?\n",
    "\n",
    "-Patrick"
   ]
  },
  {
   "cell_type": "markdown",
   "id": "7527f310-721f-455e-b7c9-d782a7c599ee",
   "metadata": {},
   "source": [
    "# link\n",
    "\n",
    "link to the vintage analysis the author of the dataset does\n",
    "https://www.kaggle.com/code/rikdifos/eda-vintage-analysis\n",
    "\n",
    "I looked over this and it still just seems that they set anyone over 60 days past due to be a bad customer?\n",
    "\n",
    "are we allowed to do this kinda target label creation? It seems kind of arbitrary to me tbh.\n",
    "\n",
    "We should also start a LaTex for this because thats what she asks for.\n",
    "\n",
    "need some refrence like research papers, different methods on how we approached this which for us will probably include alot of data processing and figures. We will using supervised learning I think. The link I provided has some nice figures and explination on what they do for preprocessing."
   ]
  },
  {
   "cell_type": "markdown",
   "id": "e8293f73-a682-41e5-916d-f413050e259c",
   "metadata": {},
   "source": []
  }
 ],
 "metadata": {
  "kernelspec": {
   "display_name": "Python 3 (ipykernel)",
   "language": "python",
   "name": "python3"
  },
  "language_info": {
   "codemirror_mode": {
    "name": "ipython",
    "version": 3
   },
   "file_extension": ".py",
   "mimetype": "text/x-python",
   "name": "python",
   "nbconvert_exporter": "python",
   "pygments_lexer": "ipython3",
   "version": "3.9.7"
  }
 },
 "nbformat": 4,
 "nbformat_minor": 5
}
